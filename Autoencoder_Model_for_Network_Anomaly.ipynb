{
  "nbformat": 4,
  "nbformat_minor": 0,
  "metadata": {
    "colab": {
      "provenance": [],
      "include_colab_link": true
    },
    "kernelspec": {
      "name": "python3",
      "display_name": "Python 3"
    },
    "language_info": {
      "name": "python"
    }
  },
  "cells": [
    {
      "cell_type": "markdown",
      "metadata": {
        "id": "view-in-github",
        "colab_type": "text"
      },
      "source": [
        "<a href=\"https://colab.research.google.com/github/4k5h1t/Network-Anomaly-Detection/blob/main/Autoencoder_Model_for_Network_Anomaly.ipynb\" target=\"_parent\"><img src=\"https://colab.research.google.com/assets/colab-badge.svg\" alt=\"Open In Colab\"/></a>"
      ]
    },
    {
      "cell_type": "code",
      "source": [
        "import pandas as pd\n",
        "import numpy as np\n",
        "import matplotlib.pyplot as plt\n",
        "import joblib\n",
        "import sklearn\n",
        "from sklearn.preprocessing import MinMaxScaler\n",
        "from sklearn.ensemble import RandomForestClassifier\n",
        "from sklearn.model_selection import GridSearchCV, train_test_split\n",
        "from sklearn.metrics import accuracy_score, classification_report, confusion_matrix, plot_confusion_matrix\n",
        "from sklearn.utils import class_weight\n",
        "\n",
        "RANDOM_STATE_SEED = 12"
      ],
      "metadata": {
        "id": "LeYwU0EeGSPQ"
      },
      "execution_count": null,
      "outputs": []
    },
    {
      "cell_type": "code",
      "source": [
        "from google.colab import drive\n",
        "drive.mount('/content/gdrive')"
      ],
      "metadata": {
        "colab": {
          "base_uri": "https://localhost:8080/"
        },
        "id": "QT58V6bNpDRI",
        "outputId": "a9c5a009-bf49-41e0-bbef-4c1c9fd77229"
      },
      "execution_count": null,
      "outputs": [
        {
          "output_type": "stream",
          "name": "stdout",
          "text": [
            "Mounted at /content/gdrive\n"
          ]
        }
      ]
    },
    {
      "cell_type": "code",
      "source": [
        "%cd /content/gdrive/My Drive/Kaggle"
      ],
      "metadata": {
        "colab": {
          "base_uri": "https://localhost:8080/"
        },
        "id": "iPAAxsnx7xBl",
        "outputId": "24581bd5-2eb5-4e0e-876a-e0147105a01f"
      },
      "execution_count": null,
      "outputs": [
        {
          "output_type": "stream",
          "name": "stdout",
          "text": [
            "/content/gdrive/My Drive/Kaggle\n"
          ]
        }
      ]
    },
    {
      "cell_type": "code",
      "source": [
        "import os\n",
        "os.environ['KAGGLE_CONFIG_DIR'] = \"/content/gdrive/My Drive/Kaggle\""
      ],
      "metadata": {
        "id": "ELrd78o4ogKC"
      },
      "execution_count": null,
      "outputs": []
    },
    {
      "cell_type": "code",
      "source": [
        "!kaggle datasets download -d solarmainframe/ids-intrusion-csv"
      ],
      "metadata": {
        "colab": {
          "base_uri": "https://localhost:8080/"
        },
        "id": "wLM06Kbi8Bmm",
        "outputId": "0630c1d6-b4f4-4fe7-e4ce-1e0172df9235"
      },
      "execution_count": null,
      "outputs": [
        {
          "output_type": "stream",
          "name": "stdout",
          "text": [
            "Downloading ids-intrusion-csv.zip to /content/gdrive/My Drive/Kaggle\n",
            "100% 1.60G/1.60G [00:12<00:00, 129MB/s]\n",
            "100% 1.60G/1.60G [00:12<00:00, 134MB/s]\n"
          ]
        }
      ]
    },
    {
      "cell_type": "code",
      "source": [
        "!unzip \\*.zip  && rm *.zip"
      ],
      "metadata": {
        "id": "Qa9TdTzg75mB",
        "colab": {
          "base_uri": "https://localhost:8080/"
        },
        "outputId": "377c254a-b139-46d1-ae2e-64f31c9b057e"
      },
      "execution_count": null,
      "outputs": [
        {
          "output_type": "stream",
          "name": "stdout",
          "text": [
            "Archive:  ids-intrusion-csv.zip\n",
            "replace 02-14-2018.csv? [y]es, [n]o, [A]ll, [N]one, [r]ename: N\n"
          ]
        }
      ]
    },
    {
      "cell_type": "code",
      "source": [
        "df = pd.read_csv('/content/gdrive/My Drive/Kaggle/02-14-2018.csv')\n",
        "df = df.drop(['Timestamp'], axis=1)\n",
        "df.dropna(inplace=True)"
      ],
      "metadata": {
        "id": "jezwTW2BGVCr"
      },
      "execution_count": null,
      "outputs": []
    },
    {
      "cell_type": "code",
      "source": [
        "df.info()"
      ],
      "metadata": {
        "colab": {
          "base_uri": "https://localhost:8080/"
        },
        "id": "ZcQhIE84MMa4",
        "outputId": "62980459-4af8-40df-e012-74405ebbd74f"
      },
      "execution_count": null,
      "outputs": [
        {
          "output_type": "stream",
          "name": "stdout",
          "text": [
            "<class 'pandas.core.frame.DataFrame'>\n",
            "Int64Index: 1046298 entries, 0 to 1048574\n",
            "Data columns (total 79 columns):\n",
            " #   Column             Non-Null Count    Dtype  \n",
            "---  ------             --------------    -----  \n",
            " 0   Dst Port           1046298 non-null  int64  \n",
            " 1   Protocol           1046298 non-null  int64  \n",
            " 2   Flow Duration      1046298 non-null  int64  \n",
            " 3   Tot Fwd Pkts       1046298 non-null  int64  \n",
            " 4   Tot Bwd Pkts       1046298 non-null  int64  \n",
            " 5   TotLen Fwd Pkts    1046298 non-null  int64  \n",
            " 6   TotLen Bwd Pkts    1046298 non-null  int64  \n",
            " 7   Fwd Pkt Len Max    1046298 non-null  int64  \n",
            " 8   Fwd Pkt Len Min    1046298 non-null  int64  \n",
            " 9   Fwd Pkt Len Mean   1046298 non-null  float64\n",
            " 10  Fwd Pkt Len Std    1046298 non-null  float64\n",
            " 11  Bwd Pkt Len Max    1046298 non-null  int64  \n",
            " 12  Bwd Pkt Len Min    1046298 non-null  int64  \n",
            " 13  Bwd Pkt Len Mean   1046298 non-null  float64\n",
            " 14  Bwd Pkt Len Std    1046298 non-null  float64\n",
            " 15  Flow Byts/s        1046298 non-null  float64\n",
            " 16  Flow Pkts/s        1046298 non-null  float64\n",
            " 17  Flow IAT Mean      1046298 non-null  float64\n",
            " 18  Flow IAT Std       1046298 non-null  float64\n",
            " 19  Flow IAT Max       1046298 non-null  int64  \n",
            " 20  Flow IAT Min       1046298 non-null  int64  \n",
            " 21  Fwd IAT Tot        1046298 non-null  int64  \n",
            " 22  Fwd IAT Mean       1046298 non-null  float64\n",
            " 23  Fwd IAT Std        1046298 non-null  float64\n",
            " 24  Fwd IAT Max        1046298 non-null  int64  \n",
            " 25  Fwd IAT Min        1046298 non-null  int64  \n",
            " 26  Bwd IAT Tot        1046298 non-null  int64  \n",
            " 27  Bwd IAT Mean       1046298 non-null  float64\n",
            " 28  Bwd IAT Std        1046298 non-null  float64\n",
            " 29  Bwd IAT Max        1046298 non-null  int64  \n",
            " 30  Bwd IAT Min        1046298 non-null  int64  \n",
            " 31  Fwd PSH Flags      1046298 non-null  int64  \n",
            " 32  Bwd PSH Flags      1046298 non-null  int64  \n",
            " 33  Fwd URG Flags      1046298 non-null  int64  \n",
            " 34  Bwd URG Flags      1046298 non-null  int64  \n",
            " 35  Fwd Header Len     1046298 non-null  int64  \n",
            " 36  Bwd Header Len     1046298 non-null  int64  \n",
            " 37  Fwd Pkts/s         1046298 non-null  float64\n",
            " 38  Bwd Pkts/s         1046298 non-null  float64\n",
            " 39  Pkt Len Min        1046298 non-null  int64  \n",
            " 40  Pkt Len Max        1046298 non-null  int64  \n",
            " 41  Pkt Len Mean       1046298 non-null  float64\n",
            " 42  Pkt Len Std        1046298 non-null  float64\n",
            " 43  Pkt Len Var        1046298 non-null  float64\n",
            " 44  FIN Flag Cnt       1046298 non-null  int64  \n",
            " 45  SYN Flag Cnt       1046298 non-null  int64  \n",
            " 46  RST Flag Cnt       1046298 non-null  int64  \n",
            " 47  PSH Flag Cnt       1046298 non-null  int64  \n",
            " 48  ACK Flag Cnt       1046298 non-null  int64  \n",
            " 49  URG Flag Cnt       1046298 non-null  int64  \n",
            " 50  CWE Flag Count     1046298 non-null  int64  \n",
            " 51  ECE Flag Cnt       1046298 non-null  int64  \n",
            " 52  Down/Up Ratio      1046298 non-null  int64  \n",
            " 53  Pkt Size Avg       1046298 non-null  float64\n",
            " 54  Fwd Seg Size Avg   1046298 non-null  float64\n",
            " 55  Bwd Seg Size Avg   1046298 non-null  float64\n",
            " 56  Fwd Byts/b Avg     1046298 non-null  int64  \n",
            " 57  Fwd Pkts/b Avg     1046298 non-null  int64  \n",
            " 58  Fwd Blk Rate Avg   1046298 non-null  int64  \n",
            " 59  Bwd Byts/b Avg     1046298 non-null  int64  \n",
            " 60  Bwd Pkts/b Avg     1046298 non-null  int64  \n",
            " 61  Bwd Blk Rate Avg   1046298 non-null  int64  \n",
            " 62  Subflow Fwd Pkts   1046298 non-null  int64  \n",
            " 63  Subflow Fwd Byts   1046298 non-null  int64  \n",
            " 64  Subflow Bwd Pkts   1046298 non-null  int64  \n",
            " 65  Subflow Bwd Byts   1046298 non-null  int64  \n",
            " 66  Init Fwd Win Byts  1046298 non-null  int64  \n",
            " 67  Init Bwd Win Byts  1046298 non-null  int64  \n",
            " 68  Fwd Act Data Pkts  1046298 non-null  int64  \n",
            " 69  Fwd Seg Size Min   1046298 non-null  int64  \n",
            " 70  Active Mean        1046298 non-null  float64\n",
            " 71  Active Std         1046298 non-null  float64\n",
            " 72  Active Max         1046298 non-null  int64  \n",
            " 73  Active Min         1046298 non-null  int64  \n",
            " 74  Idle Mean          1046298 non-null  float64\n",
            " 75  Idle Std           1046298 non-null  float64\n",
            " 76  Idle Max           1046298 non-null  int64  \n",
            " 77  Idle Min           1046298 non-null  int64  \n",
            " 78  Label              1046298 non-null  object \n",
            "dtypes: float64(24), int64(54), object(1)\n",
            "memory usage: 638.6+ MB\n"
          ]
        }
      ]
    },
    {
      "cell_type": "code",
      "source": [
        "df['Label'].value_counts()"
      ],
      "metadata": {
        "colab": {
          "base_uri": "https://localhost:8080/"
        },
        "id": "KoCfUyHvMbSS",
        "outputId": "98ed86f8-56ec-4559-b5b3-29e1d6f83db8"
      },
      "execution_count": null,
      "outputs": [
        {
          "output_type": "execute_result",
          "data": {
            "text/plain": [
              "Benign            665355\n",
              "FTP-BruteForce    193354\n",
              "SSH-Bruteforce    187589\n",
              "Name: Label, dtype: int64"
            ]
          },
          "metadata": {},
          "execution_count": 9
        }
      ]
    },
    {
      "cell_type": "code",
      "source": [
        "df.replace(to_replace=[\"FTP-BruteForce\", \"SSH-Bruteforce\"], value=\"Malicious\", inplace=True)\n",
        "df1 = df[df[\"Label\"] == \"Benign\"][:665000]\n",
        "df2 = df[df[\"Label\"] == \"Malicious\"][:380943]\n",
        "df_equal = pd.concat([df1,df2], axis=0)\n",
        "df_equal[\"Label\"].value_counts()"
      ],
      "metadata": {
        "id": "XyqitAwTGbrt",
        "colab": {
          "base_uri": "https://localhost:8080/"
        },
        "outputId": "cd17440c-15b5-4770-eda0-e5a5b217320c"
      },
      "execution_count": null,
      "outputs": [
        {
          "output_type": "execute_result",
          "data": {
            "text/plain": [
              "Benign       665000\n",
              "Malicious    380943\n",
              "Name: Label, dtype: int64"
            ]
          },
          "metadata": {},
          "execution_count": 25
        }
      ]
    },
    {
      "cell_type": "code",
      "source": [
        "df_equal.replace(to_replace=\"Benign\", value=0, inplace=True)\n",
        "df_equal.replace(to_replace=\"Malicious\", value=1, inplace=True)\n",
        "df_equal.replace([np.inf, -np.inf], np.nan, inplace=True)\n",
        "df_equal.dropna(inplace=True)\n",
        "train = df_equal[df[\"Label\"] == \"Benign\"]\n",
        "train.shape"
      ],
      "metadata": {
        "id": "l5_pLScVGe5I",
        "colab": {
          "base_uri": "https://localhost:8080/"
        },
        "outputId": "1c94d3f3-a409-4bae-a3de-483b227884e8"
      },
      "execution_count": null,
      "outputs": [
        {
          "output_type": "stream",
          "name": "stderr",
          "text": [
            "<ipython-input-26-dacb29b6481c>:5: UserWarning: Boolean Series key will be reindexed to match DataFrame index.\n",
            "  train = df_equal[df[\"Label\"] == \"Benign\"]\n"
          ]
        },
        {
          "output_type": "execute_result",
          "data": {
            "text/plain": [
              "(663454, 79)"
            ]
          },
          "metadata": {},
          "execution_count": 26
        }
      ]
    },
    {
      "cell_type": "code",
      "source": [
        "Xtrain = train.drop(['Label'], axis=1)\n",
        "Ytrain = train['Label']\n",
        "scaler = MinMaxScaler()\n",
        "Xtrain = scaler.fit_transform(Xtrain)"
      ],
      "metadata": {
        "id": "Jec_ZzVJGhq0"
      },
      "execution_count": null,
      "outputs": []
    },
    {
      "cell_type": "code",
      "source": [
        "Y.value_counts()"
      ],
      "metadata": {
        "id": "l7Yc5k8IVs4A",
        "colab": {
          "base_uri": "https://localhost:8080/"
        },
        "outputId": "653df711-6043-4b4d-d4b7-22b2cde8f238"
      },
      "execution_count": null,
      "outputs": [
        {
          "output_type": "execute_result",
          "data": {
            "text/plain": [
              "1    380943\n",
              "0    380110\n",
              "Name: Label, dtype: int64"
            ]
          },
          "metadata": {},
          "execution_count": 13
        }
      ]
    },
    {
      "cell_type": "code",
      "source": [
        "Xtrain, Xtest, Ytrain, Ytest = train_test_split(X, Y, test_size=0.3, random_state=RANDOM_STATE_SEED, shuffle=True)"
      ],
      "metadata": {
        "id": "cOn2MtdoJgMB"
      },
      "execution_count": null,
      "outputs": []
    },
    {
      "cell_type": "code",
      "source": [
        "Xtrain.shape"
      ],
      "metadata": {
        "colab": {
          "base_uri": "https://localhost:8080/"
        },
        "id": "1sCQB8wMQiP2",
        "outputId": "2e4f18cd-83f5-4a4b-9c08-e9b5214de147"
      },
      "execution_count": null,
      "outputs": [
        {
          "output_type": "execute_result",
          "data": {
            "text/plain": [
              "(663454, 78)"
            ]
          },
          "metadata": {},
          "execution_count": 28
        }
      ]
    },
    {
      "cell_type": "code",
      "source": [
        "import tensorflow as tf\n",
        "from tensorflow import keras\n",
        "from tensorflow.python.keras import layers\n",
        "\n",
        "import tensorflow.python.keras as keras"
      ],
      "metadata": {
        "id": "lNT4F2AlP-Zb"
      },
      "execution_count": null,
      "outputs": []
    },
    {
      "cell_type": "code",
      "source": [
        "from tensorflow.python.keras import layers\n",
        "from tensorflow.python.keras.layers import Dense"
      ],
      "metadata": {
        "id": "6sxa4onCOvrM"
      },
      "execution_count": null,
      "outputs": []
    },
    {
      "cell_type": "code",
      "source": [
        "model = keras.Sequential([\n",
        "    layers.InputLayer(input_shape=(78,)),\n",
        "       \n",
        "    layers.Dense(128, activation='relu'),\n",
        "    layers.Dropout(rate = 0.3),\n",
        "    layers.Dense(64, activation='relu'),\n",
        "    layers.Dropout(rate = 0.3),\n",
        "    layers.Dense(32, activation='relu'),\n",
        "    layers.Dropout(rate = 0.3),\n",
        "    layers.Dense(1, activation='sigmoid'),\n",
        "])"
      ],
      "metadata": {
        "id": "rO4RDeLgRVqN"
      },
      "execution_count": null,
      "outputs": []
    },
    {
      "cell_type": "code",
      "source": [
        "model.summary()"
      ],
      "metadata": {
        "colab": {
          "base_uri": "https://localhost:8080/"
        },
        "id": "biOicugzRpRE",
        "outputId": "aa84e742-375a-4ed1-f0ae-540df6ff20f8"
      },
      "execution_count": null,
      "outputs": [
        {
          "output_type": "stream",
          "name": "stdout",
          "text": [
            "Model: \"sequential_1\"\n",
            "_________________________________________________________________\n",
            "Layer (type)                 Output Shape              Param #   \n",
            "=================================================================\n",
            "dense_4 (Dense)              (None, 128)               10112     \n",
            "_________________________________________________________________\n",
            "dropout_3 (Dropout)          (None, 128)               0         \n",
            "_________________________________________________________________\n",
            "dense_5 (Dense)              (None, 64)                8256      \n",
            "_________________________________________________________________\n",
            "dropout_4 (Dropout)          (None, 64)                0         \n",
            "_________________________________________________________________\n",
            "dense_6 (Dense)              (None, 32)                2080      \n",
            "_________________________________________________________________\n",
            "dropout_5 (Dropout)          (None, 32)                0         \n",
            "_________________________________________________________________\n",
            "dense_7 (Dense)              (None, 1)                 33        \n",
            "=================================================================\n",
            "Total params: 20,481\n",
            "Trainable params: 20,481\n",
            "Non-trainable params: 0\n",
            "_________________________________________________________________\n"
          ]
        }
      ]
    },
    {
      "cell_type": "code",
      "source": [
        "model.compile(optimizer = 'adam', loss=keras.losses.BinaryCrossentropy(from_logits=True), metrics=[keras.metrics.BinaryAccuracy()])"
      ],
      "metadata": {
        "id": "GykqBkDbSONm"
      },
      "execution_count": null,
      "outputs": []
    },
    {
      "cell_type": "code",
      "source": [
        "model.fit(Xtrain, Ytrain, epochs=3,verbose=1, validation_data=(Xtest, Ytest))"
      ],
      "metadata": {
        "colab": {
          "base_uri": "https://localhost:8080/"
        },
        "id": "kFIcGwDoSiMx",
        "outputId": "e83a3403-95c6-4e3f-ec35-b11fde7c4a9f"
      },
      "execution_count": null,
      "outputs": [
        {
          "output_type": "stream",
          "name": "stdout",
          "text": [
            "Epoch 1/3\n"
          ]
        },
        {
          "output_type": "stream",
          "name": "stderr",
          "text": [
            "/usr/local/lib/python3.8/dist-packages/tensorflow/python/keras/backend.py:5028: UserWarning: \"`binary_crossentropy` received `from_logits=True`, but the `output` argument was produced by a sigmoid or softmax activation and thus does not represent logits. Was this intended?\"\n",
            "  warnings.warn(\n"
          ]
        },
        {
          "output_type": "stream",
          "name": "stdout",
          "text": [
            "20733/20733 [==============================] - 67s 3ms/step - loss: 8.0229e-04 - binary_accuracy: 0.9998 - val_loss: 34.0516 - val_binary_accuracy: 0.4996\n",
            "Epoch 2/3\n",
            "20733/20733 [==============================] - 64s 3ms/step - loss: 6.9311e-11 - binary_accuracy: 1.0000 - val_loss: 40.1037 - val_binary_accuracy: 0.4996\n",
            "Epoch 3/3\n",
            "20733/20733 [==============================] - 57s 3ms/step - loss: 5.3294e-11 - binary_accuracy: 1.0000 - val_loss: 44.6471 - val_binary_accuracy: 0.4996\n"
          ]
        },
        {
          "output_type": "execute_result",
          "data": {
            "text/plain": [
              "<tensorflow.python.keras.callbacks.History at 0x7f6ae7b2f9a0>"
            ]
          },
          "metadata": {},
          "execution_count": 32
        }
      ]
    },
    {
      "cell_type": "code",
      "source": [
        "predictions=(model.predict(Xtest) > 0.5).astype(\"int32\")\n",
        "predictions"
      ],
      "metadata": {
        "id": "fZZb5g7dcJeU",
        "colab": {
          "base_uri": "https://localhost:8080/"
        },
        "outputId": "6d8a3e7f-de03-4404-af61-6591489c4b5f"
      },
      "execution_count": null,
      "outputs": [
        {
          "output_type": "execute_result",
          "data": {
            "text/plain": [
              "array([[0],\n",
              "       [0],\n",
              "       [0],\n",
              "       ...,\n",
              "       [0],\n",
              "       [0],\n",
              "       [0]], dtype=int32)"
            ]
          },
          "metadata": {},
          "execution_count": 33
        }
      ]
    },
    {
      "cell_type": "code",
      "source": [
        "print(accuracy_score(Ytest, predictions))"
      ],
      "metadata": {
        "colab": {
          "base_uri": "https://localhost:8080/"
        },
        "id": "tSBEh1eMcO6L",
        "outputId": "5a4d7283-0d09-4367-bff3-10e8a3044190"
      },
      "execution_count": null,
      "outputs": [
        {
          "output_type": "stream",
          "name": "stdout",
          "text": [
            "0.4995663904413182\n"
          ]
        }
      ]
    },
    {
      "cell_type": "code",
      "source": [
        "from sklearn.metrics import confusion_matrix\n",
        "cf_matrix = confusion_matrix(Ytest, predictions)\n",
        "import seaborn as sns\n",
        "sns.heatmap(cf_matrix, annot=True)"
      ],
      "metadata": {
        "colab": {
          "base_uri": "https://localhost:8080/",
          "height": 283
        },
        "id": "VUR3Jx0tcPlA",
        "outputId": "26fe5d53-5e20-4818-f561-16786432fb25"
      },
      "execution_count": null,
      "outputs": [
        {
          "output_type": "execute_result",
          "data": {
            "text/plain": [
              "<matplotlib.axes._subplots.AxesSubplot at 0x7f6ae855b4c0>"
            ]
          },
          "metadata": {},
          "execution_count": 35
        },
        {
          "output_type": "display_data",
          "data": {
            "text/plain": [
              "<Figure size 432x288 with 2 Axes>"
            ],
            "image/png": "[encoded data removed]"
          },
          "metadata": {
            "needs_background": "light"
          }
        }
      ]
    },
    {
      "cell_type": "markdown",
      "source": [
        "## Testing model with new dataset"
      ],
      "metadata": {
        "id": "48I4Idqz3lzN"
      }
    },
    {
      "cell_type": "code",
      "source": [
        "!kaggle datasets download -d solarmainframe/ids-intrusion-csv"
      ],
      "metadata": {
        "id": "Mqd0ht28vJ0m"
      },
      "execution_count": null,
      "outputs": []
    },
    {
      "cell_type": "code",
      "source": [
        "!unzip \\*.zip  && rm *.zip"
      ],
      "metadata": {
        "id": "J3PKXRHTupRr"
      },
      "execution_count": null,
      "outputs": []
    },
    {
      "cell_type": "code",
      "source": [
        "df = pd.read_csv('/content/gdrive/My Drive/Kaggle/03-02-2018.csv')\n",
        "df = df.drop(['Timestamp'], axis=1)\n",
        "df.dropna(inplace=True)\n",
        "df.info()\n"
      ],
      "metadata": {
        "id": "eLOil9dFzqCM"
      },
      "execution_count": null,
      "outputs": []
    },
    {
      "cell_type": "code",
      "source": [
        "df.replace(to_replace=\"Bot\", value=\"Malicious\", inplace=True)\n",
        "df1 = df[df[\"Label\"] == \"Benign\"][:280000]\n",
        "df2 = df[df[\"Label\"] == \"Malicious\"][:280000]\n",
        "df_equal2 = pd.concat([df1,df2], axis=0)\n",
        "df_equal2.replace(to_replace=\"Benign\", value=0, inplace=True)\n",
        "df_equal2.replace(to_replace=\"Malicious\", value=1, inplace=True)\n",
        "df_equal2.replace([np.inf, -np.inf], np.nan, inplace=True)\n",
        "df_equal2.dropna(inplace=True)\n",
        "df_equal2[\"Label\"].value_counts()"
      ],
      "metadata": {
        "id": "CgTU4p5K0c24"
      },
      "execution_count": null,
      "outputs": []
    },
    {
      "cell_type": "code",
      "source": [
        "X = df_equal2.drop(['Label'], axis=1)\n",
        "Y = df_equal2['Label']\n",
        "Y.value_counts()"
      ],
      "metadata": {
        "id": "pj-5GQKt0CTz"
      },
      "execution_count": null,
      "outputs": []
    },
    {
      "cell_type": "code",
      "source": [
        "predictions=(model.predict(X) > 0.5).astype(\"int32\")"
      ],
      "metadata": {
        "id": "bK9PR2o81i_h"
      },
      "execution_count": null,
      "outputs": []
    },
    {
      "cell_type": "code",
      "source": [
        "from sklearn.metrics import confusion_matrix\n",
        "cf_matrix = confusion_matrix(Y, predictions)\n",
        "import seaborn as sns\n",
        "sns.heatmap(cf_matrix, annot=True)"
      ],
      "metadata": {
        "id": "VACMALOo1sC3"
      },
      "execution_count": null,
      "outputs": []
    },
    {
      "cell_type": "code",
      "source": [
        "print(accuracy_score(Y, predictions))"
      ],
      "metadata": {
        "id": "Eqb6YlQt1-IN"
      },
      "execution_count": null,
      "outputs": []
    }
  ]
}