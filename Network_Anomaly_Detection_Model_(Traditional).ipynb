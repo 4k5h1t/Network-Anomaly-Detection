{
  "cells": [
    {
      "cell_type": "markdown",
      "metadata": {
        "id": "view-in-github",
        "colab_type": "text"
      },
      "source": [
        "<a href=\"https://colab.research.google.com/github/4k5h1t/Network-Anomaly-Detection/blob/main/Network_Anomaly_Detection_Model_(Traditional).ipynb\" target=\"_parent\"><img src=\"https://colab.research.google.com/assets/colab-badge.svg\" alt=\"Open In Colab\"/></a>"
      ]
    },
    {
      "cell_type": "code",
      "execution_count": null,
      "metadata": {
        "colab": {
          "base_uri": "https://localhost:8080/"
        },
        "id": "JQJv3u-6WeAw",
        "outputId": "53f78303-641a-44b6-e538-a75b156b5ba6"
      },
      "outputs": [
        {
          "name": "stdout",
          "output_type": "stream",
          "text": [
            "Mounted at /content/gdrive\n"
          ]
        }
      ],
      "source": [
        "from google.colab import drive\n",
        "drive.mount('/content/gdrive')"
      ]
    },
    {
      "cell_type": "code",
      "execution_count": null,
      "metadata": {
        "id": "KJ-SvKPObpiW"
      },
      "outputs": [],
      "source": [
        "import os\n",
        "os.environ['KAGGLE_CONFIG_DIR'] = \"/content/gdrive/My Drive/Kaggle\""
      ]
    },
    {
      "cell_type": "code",
      "execution_count": null,
      "metadata": {
        "colab": {
          "base_uri": "https://localhost:8080/"
        },
        "id": "AMXTNHMAbwYq",
        "outputId": "4612cda2-8e96-4c3a-e83d-28fd20fee3d9"
      },
      "outputs": [
        {
          "name": "stdout",
          "output_type": "stream",
          "text": [
            "/content/gdrive/My Drive/Kaggle\n"
          ]
        }
      ],
      "source": [
        "%cd /content/gdrive/My Drive/Kaggle"
      ]
    },
    {
      "cell_type": "code",
      "execution_count": null,
      "metadata": {
        "colab": {
          "base_uri": "https://localhost:8080/"
        },
        "id": "FWD4ASwqb6Fa",
        "outputId": "e8c10a34-258a-4efe-fda6-6f0ada79a1b1"
      },
      "outputs": [
        {
          "name": "stdout",
          "output_type": "stream",
          "text": [
            "Downloading ids-intrusion-csv.zip to /content/gdrive/My Drive/Kaggle\n",
            "100% 1.60G/1.60G [01:06<00:00, 29.7MB/s]\n",
            "100% 1.60G/1.60G [01:06<00:00, 25.8MB/s]\n"
          ]
        }
      ],
      "source": [
        "!kaggle datasets download -d solarmainframe/ids-intrusion-csv"
      ]
    },
    {
      "cell_type": "code",
      "execution_count": null,
      "metadata": {
        "colab": {
          "base_uri": "https://localhost:8080/"
        },
        "id": "KJkacpDAcCOz",
        "outputId": "40f9d065-800a-461f-f955-925105ed1c75"
      },
      "outputs": [
        {
          "name": "stdout",
          "output_type": "stream",
          "text": [
            "Archive:  ids-intrusion-csv.zip\n",
            "replace 02-14-2018.csv? [y]es, [n]o, [A]ll, [N]one, [r]ename: N\n",
            "  inflating: 02-15-2018.csv          \n",
            "  inflating: 02-16-2018.csv          \n",
            "  inflating: 02-20-2018.csv          \n",
            "  inflating: 02-21-2018.csv          \n",
            "  inflating: 02-22-2018.csv          \n",
            "  inflating: 02-23-2018.csv          \n",
            "  inflating: 02-28-2018.csv          \n",
            "  inflating: 03-01-2018.csv          \n",
            "  inflating: 03-02-2018.csv          \n"
          ]
        }
      ],
      "source": [
        "!unzip \\*.zip  && rm *.zip"
      ]
    },
    {
      "cell_type": "code",
      "execution_count": null,
      "metadata": {
        "id": "tyFnJsrMcoMG"
      },
      "outputs": [],
      "source": [
        "import pandas as pd\n",
        "import numpy as np\n",
        "import matplotlib.pyplot as plt\n",
        "import joblib\n",
        "import sklearn\n",
        "from sklearn.preprocessing import MinMaxScaler\n",
        "from sklearn.ensemble import RandomForestClassifier\n",
        "from sklearn.model_selection import GridSearchCV, train_test_split\n",
        "from sklearn.metrics import accuracy_score, classification_report, confusion_matrix, plot_confusion_matrix\n",
        "from sklearn.utils import class_weight\n",
        "\n",
        "RANDOM_STATE_SEED = 12"
      ]
    },
    {
      "cell_type": "code",
      "execution_count": null,
      "metadata": {
        "colab": {
          "base_uri": "https://localhost:8080/",
          "height": 694
        },
        "id": "ro17wHNmu1iP",
        "outputId": "0d1fea24-0fac-4948-943b-32e35c2395af"
      },
      "outputs": [
        {
          "data": {
            "text/html": [
              "\n",
              "  <div id=\"df-a36f1355-767a-4392-a630-2bb59d1bffcb\">\n",
              "    <div class=\"colab-df-container\">\n",
              "      <div>\n",
              "<style scoped>\n",
              "    .dataframe tbody tr th:only-of-type {\n",
              "        vertical-align: middle;\n",
              "    }\n",
              "\n",
              "    .dataframe tbody tr th {\n",
              "        vertical-align: top;\n",
              "    }\n",
              "\n",
              "    .dataframe thead th {\n",
              "        text-align: right;\n",
              "    }\n",
              "</style>\n",
              "<table border=\"1\" class=\"dataframe\">\n",
              "  <thead>\n",
              "    <tr style=\"text-align: right;\">\n",
              "      <th></th>\n",
              "      <th>Dst Port</th>\n",
              "      <th>Protocol</th>\n",
              "      <th>Timestamp</th>\n",
              "      <th>Flow Duration</th>\n",
              "      <th>Tot Fwd Pkts</th>\n",
              "      <th>Tot Bwd Pkts</th>\n",
              "      <th>TotLen Fwd Pkts</th>\n",
              "      <th>TotLen Bwd Pkts</th>\n",
              "      <th>Fwd Pkt Len Max</th>\n",
              "      <th>Fwd Pkt Len Min</th>\n",
              "      <th>...</th>\n",
              "      <th>Fwd Seg Size Min</th>\n",
              "      <th>Active Mean</th>\n",
              "      <th>Active Std</th>\n",
              "      <th>Active Max</th>\n",
              "      <th>Active Min</th>\n",
              "      <th>Idle Mean</th>\n",
              "      <th>Idle Std</th>\n",
              "      <th>Idle Max</th>\n",
              "      <th>Idle Min</th>\n",
              "      <th>Label</th>\n",
              "    </tr>\n",
              "  </thead>\n",
              "  <tbody>\n",
              "    <tr>\n",
              "      <th>0</th>\n",
              "      <td>0</td>\n",
              "      <td>0</td>\n",
              "      <td>14/02/2018 08:31:01</td>\n",
              "      <td>112641719</td>\n",
              "      <td>3</td>\n",
              "      <td>0</td>\n",
              "      <td>0</td>\n",
              "      <td>0</td>\n",
              "      <td>0</td>\n",
              "      <td>0</td>\n",
              "      <td>...</td>\n",
              "      <td>0</td>\n",
              "      <td>0.0</td>\n",
              "      <td>0.0</td>\n",
              "      <td>0</td>\n",
              "      <td>0</td>\n",
              "      <td>56320859.5</td>\n",
              "      <td>139.300036</td>\n",
              "      <td>56320958</td>\n",
              "      <td>56320761</td>\n",
              "      <td>Benign</td>\n",
              "    </tr>\n",
              "    <tr>\n",
              "      <th>1</th>\n",
              "      <td>0</td>\n",
              "      <td>0</td>\n",
              "      <td>14/02/2018 08:33:50</td>\n",
              "      <td>112641466</td>\n",
              "      <td>3</td>\n",
              "      <td>0</td>\n",
              "      <td>0</td>\n",
              "      <td>0</td>\n",
              "      <td>0</td>\n",
              "      <td>0</td>\n",
              "      <td>...</td>\n",
              "      <td>0</td>\n",
              "      <td>0.0</td>\n",
              "      <td>0.0</td>\n",
              "      <td>0</td>\n",
              "      <td>0</td>\n",
              "      <td>56320733.0</td>\n",
              "      <td>114.551299</td>\n",
              "      <td>56320814</td>\n",
              "      <td>56320652</td>\n",
              "      <td>Benign</td>\n",
              "    </tr>\n",
              "    <tr>\n",
              "      <th>2</th>\n",
              "      <td>0</td>\n",
              "      <td>0</td>\n",
              "      <td>14/02/2018 08:36:39</td>\n",
              "      <td>112638623</td>\n",
              "      <td>3</td>\n",
              "      <td>0</td>\n",
              "      <td>0</td>\n",
              "      <td>0</td>\n",
              "      <td>0</td>\n",
              "      <td>0</td>\n",
              "      <td>...</td>\n",
              "      <td>0</td>\n",
              "      <td>0.0</td>\n",
              "      <td>0.0</td>\n",
              "      <td>0</td>\n",
              "      <td>0</td>\n",
              "      <td>56319311.5</td>\n",
              "      <td>301.934596</td>\n",
              "      <td>56319525</td>\n",
              "      <td>56319098</td>\n",
              "      <td>Benign</td>\n",
              "    </tr>\n",
              "    <tr>\n",
              "      <th>3</th>\n",
              "      <td>22</td>\n",
              "      <td>6</td>\n",
              "      <td>14/02/2018 08:40:13</td>\n",
              "      <td>6453966</td>\n",
              "      <td>15</td>\n",
              "      <td>10</td>\n",
              "      <td>1239</td>\n",
              "      <td>2273</td>\n",
              "      <td>744</td>\n",
              "      <td>0</td>\n",
              "      <td>...</td>\n",
              "      <td>32</td>\n",
              "      <td>0.0</td>\n",
              "      <td>0.0</td>\n",
              "      <td>0</td>\n",
              "      <td>0</td>\n",
              "      <td>0.0</td>\n",
              "      <td>0.000000</td>\n",
              "      <td>0</td>\n",
              "      <td>0</td>\n",
              "      <td>Benign</td>\n",
              "    </tr>\n",
              "    <tr>\n",
              "      <th>4</th>\n",
              "      <td>22</td>\n",
              "      <td>6</td>\n",
              "      <td>14/02/2018 08:40:23</td>\n",
              "      <td>8804066</td>\n",
              "      <td>14</td>\n",
              "      <td>11</td>\n",
              "      <td>1143</td>\n",
              "      <td>2209</td>\n",
              "      <td>744</td>\n",
              "      <td>0</td>\n",
              "      <td>...</td>\n",
              "      <td>32</td>\n",
              "      <td>0.0</td>\n",
              "      <td>0.0</td>\n",
              "      <td>0</td>\n",
              "      <td>0</td>\n",
              "      <td>0.0</td>\n",
              "      <td>0.000000</td>\n",
              "      <td>0</td>\n",
              "      <td>0</td>\n",
              "      <td>Benign</td>\n",
              "    </tr>\n",
              "    <tr>\n",
              "      <th>...</th>\n",
              "      <td>...</td>\n",
              "      <td>...</td>\n",
              "      <td>...</td>\n",
              "      <td>...</td>\n",
              "      <td>...</td>\n",
              "      <td>...</td>\n",
              "      <td>...</td>\n",
              "      <td>...</td>\n",
              "      <td>...</td>\n",
              "      <td>...</td>\n",
              "      <td>...</td>\n",
              "      <td>...</td>\n",
              "      <td>...</td>\n",
              "      <td>...</td>\n",
              "      <td>...</td>\n",
              "      <td>...</td>\n",
              "      <td>...</td>\n",
              "      <td>...</td>\n",
              "      <td>...</td>\n",
              "      <td>...</td>\n",
              "      <td>...</td>\n",
              "    </tr>\n",
              "    <tr>\n",
              "      <th>1048570</th>\n",
              "      <td>80</td>\n",
              "      <td>6</td>\n",
              "      <td>14/02/2018 10:53:23</td>\n",
              "      <td>10156986</td>\n",
              "      <td>5</td>\n",
              "      <td>5</td>\n",
              "      <td>1089</td>\n",
              "      <td>1923</td>\n",
              "      <td>587</td>\n",
              "      <td>0</td>\n",
              "      <td>...</td>\n",
              "      <td>20</td>\n",
              "      <td>0.0</td>\n",
              "      <td>0.0</td>\n",
              "      <td>0</td>\n",
              "      <td>0</td>\n",
              "      <td>0.0</td>\n",
              "      <td>0.000000</td>\n",
              "      <td>0</td>\n",
              "      <td>0</td>\n",
              "      <td>Benign</td>\n",
              "    </tr>\n",
              "    <tr>\n",
              "      <th>1048571</th>\n",
              "      <td>80</td>\n",
              "      <td>6</td>\n",
              "      <td>14/02/2018 10:53:33</td>\n",
              "      <td>117</td>\n",
              "      <td>2</td>\n",
              "      <td>0</td>\n",
              "      <td>0</td>\n",
              "      <td>0</td>\n",
              "      <td>0</td>\n",
              "      <td>0</td>\n",
              "      <td>...</td>\n",
              "      <td>20</td>\n",
              "      <td>0.0</td>\n",
              "      <td>0.0</td>\n",
              "      <td>0</td>\n",
              "      <td>0</td>\n",
              "      <td>0.0</td>\n",
              "      <td>0.000000</td>\n",
              "      <td>0</td>\n",
              "      <td>0</td>\n",
              "      <td>Benign</td>\n",
              "    </tr>\n",
              "    <tr>\n",
              "      <th>1048572</th>\n",
              "      <td>80</td>\n",
              "      <td>6</td>\n",
              "      <td>14/02/2018 10:53:28</td>\n",
              "      <td>5095331</td>\n",
              "      <td>3</td>\n",
              "      <td>1</td>\n",
              "      <td>0</td>\n",
              "      <td>0</td>\n",
              "      <td>0</td>\n",
              "      <td>0</td>\n",
              "      <td>...</td>\n",
              "      <td>20</td>\n",
              "      <td>0.0</td>\n",
              "      <td>0.0</td>\n",
              "      <td>0</td>\n",
              "      <td>0</td>\n",
              "      <td>0.0</td>\n",
              "      <td>0.000000</td>\n",
              "      <td>0</td>\n",
              "      <td>0</td>\n",
              "      <td>Benign</td>\n",
              "    </tr>\n",
              "    <tr>\n",
              "      <th>1048573</th>\n",
              "      <td>80</td>\n",
              "      <td>6</td>\n",
              "      <td>14/02/2018 10:53:28</td>\n",
              "      <td>5235511</td>\n",
              "      <td>3</td>\n",
              "      <td>1</td>\n",
              "      <td>0</td>\n",
              "      <td>0</td>\n",
              "      <td>0</td>\n",
              "      <td>0</td>\n",
              "      <td>...</td>\n",
              "      <td>20</td>\n",
              "      <td>0.0</td>\n",
              "      <td>0.0</td>\n",
              "      <td>0</td>\n",
              "      <td>0</td>\n",
              "      <td>0.0</td>\n",
              "      <td>0.000000</td>\n",
              "      <td>0</td>\n",
              "      <td>0</td>\n",
              "      <td>Benign</td>\n",
              "    </tr>\n",
              "    <tr>\n",
              "      <th>1048574</th>\n",
              "      <td>443</td>\n",
              "      <td>6</td>\n",
              "      <td>14/02/2018 10:53:28</td>\n",
              "      <td>5807256</td>\n",
              "      <td>6</td>\n",
              "      <td>4</td>\n",
              "      <td>327</td>\n",
              "      <td>145</td>\n",
              "      <td>245</td>\n",
              "      <td>0</td>\n",
              "      <td>...</td>\n",
              "      <td>20</td>\n",
              "      <td>291569.0</td>\n",
              "      <td>0.0</td>\n",
              "      <td>291569</td>\n",
              "      <td>291569</td>\n",
              "      <td>5515650.0</td>\n",
              "      <td>0.000000</td>\n",
              "      <td>5515650</td>\n",
              "      <td>5515650</td>\n",
              "      <td>Benign</td>\n",
              "    </tr>\n",
              "  </tbody>\n",
              "</table>\n",
              "<p>1048575 rows × 80 columns</p>\n",
              "</div>\n",
              "      <button class=\"colab-df-convert\" onclick=\"convertToInteractive('df-a36f1355-767a-4392-a630-2bb59d1bffcb')\"\n",
              "              title=\"Convert this dataframe to an interactive table.\"\n",
              "              style=\"display:none;\">\n",
              "        \n",
              "  <svg xmlns=\"http://www.w3.org/2000/svg\" height=\"24px\"viewBox=\"0 0 24 24\"\n",
              "       width=\"24px\">\n",
              "    <path d=\"M0 0h24v24H0V0z\" fill=\"none\"/>\n",
              "    <path d=\"M18.56 5.44l.94 2.06.94-2.06 2.06-.94-2.06-.94-.94-2.06-.94 2.06-2.06.94zm-11 1L8.5 8.5l.94-2.06 2.06-.94-2.06-.94L8.5 2.5l-.94 2.06-2.06.94zm10 10l.94 2.06.94-2.06 2.06-.94-2.06-.94-.94-2.06-.94 2.06-2.06.94z\"/><path d=\"M17.41 7.96l-1.37-1.37c-.4-.4-.92-.59-1.43-.59-.52 0-1.04.2-1.43.59L10.3 9.45l-7.72 7.72c-.78.78-.78 2.05 0 2.83L4 21.41c.39.39.9.59 1.41.59.51 0 1.02-.2 1.41-.59l7.78-7.78 2.81-2.81c.8-.78.8-2.07 0-2.86zM5.41 20L4 18.59l7.72-7.72 1.47 1.35L5.41 20z\"/>\n",
              "  </svg>\n",
              "      </button>\n",
              "      \n",
              "  <style>\n",
              "    .colab-df-container {\n",
              "      display:flex;\n",
              "      flex-wrap:wrap;\n",
              "      gap: 12px;\n",
              "    }\n",
              "\n",
              "    .colab-df-convert {\n",
              "      background-color: #E8F0FE;\n",
              "      border: none;\n",
              "      border-radius: 50%;\n",
              "      cursor: pointer;\n",
              "      display: none;\n",
              "      fill: #1967D2;\n",
              "      height: 32px;\n",
              "      padding: 0 0 0 0;\n",
              "      width: 32px;\n",
              "    }\n",
              "\n",
              "    .colab-df-convert:hover {\n",
              "      background-color: #E2EBFA;\n",
              "      box-shadow: 0px 1px 2px rgba(60, 64, 67, 0.3), 0px 1px 3px 1px rgba(60, 64, 67, 0.15);\n",
              "      fill: #174EA6;\n",
              "    }\n",
              "\n",
              "    [theme=dark] .colab-df-convert {\n",
              "      background-color: #3B4455;\n",
              "      fill: #D2E3FC;\n",
              "    }\n",
              "\n",
              "    [theme=dark] .colab-df-convert:hover {\n",
              "      background-color: #434B5C;\n",
              "      box-shadow: 0px 1px 3px 1px rgba(0, 0, 0, 0.15);\n",
              "      filter: drop-shadow(0px 1px 2px rgba(0, 0, 0, 0.3));\n",
              "      fill: #FFFFFF;\n",
              "    }\n",
              "  </style>\n",
              "\n",
              "      <script>\n",
              "        const buttonEl =\n",
              "          document.querySelector('#df-a36f1355-767a-4392-a630-2bb59d1bffcb button.colab-df-convert');\n",
              "        buttonEl.style.display =\n",
              "          google.colab.kernel.accessAllowed ? 'block' : 'none';\n",
              "\n",
              "        async function convertToInteractive(key) {\n",
              "          const element = document.querySelector('#df-a36f1355-767a-4392-a630-2bb59d1bffcb');\n",
              "          const dataTable =\n",
              "            await google.colab.kernel.invokeFunction('convertToInteractive',\n",
              "                                                     [key], {});\n",
              "          if (!dataTable) return;\n",
              "\n",
              "          const docLinkHtml = 'Like what you see? Visit the ' +\n",
              "            '<a target=\"_blank\" href=https://colab.research.google.com/notebooks/data_table.ipynb>data table notebook</a>'\n",
              "            + ' to learn more about interactive tables.';\n",
              "          element.innerHTML = '';\n",
              "          dataTable['output_type'] = 'display_data';\n",
              "          await google.colab.output.renderOutput(dataTable, element);\n",
              "          const docLink = document.createElement('div');\n",
              "          docLink.innerHTML = docLinkHtml;\n",
              "          element.appendChild(docLink);\n",
              "        }\n",
              "      </script>\n",
              "    </div>\n",
              "  </div>\n",
              "  "
            ],
            "text/plain": [
              "         Dst Port  Protocol            Timestamp  Flow Duration  Tot Fwd Pkts  \\\n",
              "0               0         0  14/02/2018 08:31:01      112641719             3   \n",
              "1               0         0  14/02/2018 08:33:50      112641466             3   \n",
              "2               0         0  14/02/2018 08:36:39      112638623             3   \n",
              "3              22         6  14/02/2018 08:40:13        6453966            15   \n",
              "4              22         6  14/02/2018 08:40:23        8804066            14   \n",
              "...           ...       ...                  ...            ...           ...   \n",
              "1048570        80         6  14/02/2018 10:53:23       10156986             5   \n",
              "1048571        80         6  14/02/2018 10:53:33            117             2   \n",
              "1048572        80         6  14/02/2018 10:53:28        5095331             3   \n",
              "1048573        80         6  14/02/2018 10:53:28        5235511             3   \n",
              "1048574       443         6  14/02/2018 10:53:28        5807256             6   \n",
              "\n",
              "         Tot Bwd Pkts  TotLen Fwd Pkts  TotLen Bwd Pkts  Fwd Pkt Len Max  \\\n",
              "0                   0                0                0                0   \n",
              "1                   0                0                0                0   \n",
              "2                   0                0                0                0   \n",
              "3                  10             1239             2273              744   \n",
              "4                  11             1143             2209              744   \n",
              "...               ...              ...              ...              ...   \n",
              "1048570             5             1089             1923              587   \n",
              "1048571             0                0                0                0   \n",
              "1048572             1                0                0                0   \n",
              "1048573             1                0                0                0   \n",
              "1048574             4              327              145              245   \n",
              "\n",
              "         Fwd Pkt Len Min  ...  Fwd Seg Size Min  Active Mean  Active Std  \\\n",
              "0                      0  ...                 0          0.0         0.0   \n",
              "1                      0  ...                 0          0.0         0.0   \n",
              "2                      0  ...                 0          0.0         0.0   \n",
              "3                      0  ...                32          0.0         0.0   \n",
              "4                      0  ...                32          0.0         0.0   \n",
              "...                  ...  ...               ...          ...         ...   \n",
              "1048570                0  ...                20          0.0         0.0   \n",
              "1048571                0  ...                20          0.0         0.0   \n",
              "1048572                0  ...                20          0.0         0.0   \n",
              "1048573                0  ...                20          0.0         0.0   \n",
              "1048574                0  ...                20     291569.0         0.0   \n",
              "\n",
              "         Active Max  Active Min   Idle Mean    Idle Std  Idle Max  Idle Min  \\\n",
              "0                 0           0  56320859.5  139.300036  56320958  56320761   \n",
              "1                 0           0  56320733.0  114.551299  56320814  56320652   \n",
              "2                 0           0  56319311.5  301.934596  56319525  56319098   \n",
              "3                 0           0         0.0    0.000000         0         0   \n",
              "4                 0           0         0.0    0.000000         0         0   \n",
              "...             ...         ...         ...         ...       ...       ...   \n",
              "1048570           0           0         0.0    0.000000         0         0   \n",
              "1048571           0           0         0.0    0.000000         0         0   \n",
              "1048572           0           0         0.0    0.000000         0         0   \n",
              "1048573           0           0         0.0    0.000000         0         0   \n",
              "1048574      291569      291569   5515650.0    0.000000   5515650   5515650   \n",
              "\n",
              "          Label  \n",
              "0        Benign  \n",
              "1        Benign  \n",
              "2        Benign  \n",
              "3        Benign  \n",
              "4        Benign  \n",
              "...         ...  \n",
              "1048570  Benign  \n",
              "1048571  Benign  \n",
              "1048572  Benign  \n",
              "1048573  Benign  \n",
              "1048574  Benign  \n",
              "\n",
              "[1048575 rows x 80 columns]"
            ]
          },
          "execution_count": 63,
          "metadata": {},
          "output_type": "execute_result"
        }
      ],
      "source": [
        "df = pd.read_csv('/content/gdrive/My Drive/Kaggle/02-14-2018.csv')\n",
        "df"
      ]
    },
    {
      "cell_type": "code",
      "execution_count": null,
      "metadata": {
        "colab": {
          "base_uri": "https://localhost:8080/",
          "height": 520
        },
        "id": "gPlXj9TdkOg4",
        "outputId": "b2407cea-bd6e-4360-e9a9-ba8dd80329bb"
      },
      "outputs": [
        {
          "data": {
            "text/html": [
              "\n",
              "  <div id=\"df-9d19dc62-e620-42d3-bc42-6171fb7c15cd\">\n",
              "    <div class=\"colab-df-container\">\n",
              "      <div>\n",
              "<style scoped>\n",
              "    .dataframe tbody tr th:only-of-type {\n",
              "        vertical-align: middle;\n",
              "    }\n",
              "\n",
              "    .dataframe tbody tr th {\n",
              "        vertical-align: top;\n",
              "    }\n",
              "\n",
              "    .dataframe thead th {\n",
              "        text-align: right;\n",
              "    }\n",
              "</style>\n",
              "<table border=\"1\" class=\"dataframe\">\n",
              "  <thead>\n",
              "    <tr style=\"text-align: right;\">\n",
              "      <th></th>\n",
              "      <th>Dst Port</th>\n",
              "      <th>Protocol</th>\n",
              "      <th>Flow Duration</th>\n",
              "      <th>Tot Fwd Pkts</th>\n",
              "      <th>Tot Bwd Pkts</th>\n",
              "      <th>TotLen Fwd Pkts</th>\n",
              "      <th>TotLen Bwd Pkts</th>\n",
              "      <th>Fwd Pkt Len Max</th>\n",
              "      <th>Fwd Pkt Len Min</th>\n",
              "      <th>Fwd Pkt Len Mean</th>\n",
              "      <th>...</th>\n",
              "      <th>Fwd Seg Size Min</th>\n",
              "      <th>Active Mean</th>\n",
              "      <th>Active Std</th>\n",
              "      <th>Active Max</th>\n",
              "      <th>Active Min</th>\n",
              "      <th>Idle Mean</th>\n",
              "      <th>Idle Std</th>\n",
              "      <th>Idle Max</th>\n",
              "      <th>Idle Min</th>\n",
              "      <th>Label</th>\n",
              "    </tr>\n",
              "  </thead>\n",
              "  <tbody>\n",
              "    <tr>\n",
              "      <th>0</th>\n",
              "      <td>0</td>\n",
              "      <td>0</td>\n",
              "      <td>112641719</td>\n",
              "      <td>3</td>\n",
              "      <td>0</td>\n",
              "      <td>0</td>\n",
              "      <td>0</td>\n",
              "      <td>0</td>\n",
              "      <td>0</td>\n",
              "      <td>0.000000</td>\n",
              "      <td>...</td>\n",
              "      <td>0</td>\n",
              "      <td>0.0</td>\n",
              "      <td>0.0</td>\n",
              "      <td>0</td>\n",
              "      <td>0</td>\n",
              "      <td>56320859.5</td>\n",
              "      <td>139.300036</td>\n",
              "      <td>56320958</td>\n",
              "      <td>56320761</td>\n",
              "      <td>Benign</td>\n",
              "    </tr>\n",
              "    <tr>\n",
              "      <th>1</th>\n",
              "      <td>0</td>\n",
              "      <td>0</td>\n",
              "      <td>112641466</td>\n",
              "      <td>3</td>\n",
              "      <td>0</td>\n",
              "      <td>0</td>\n",
              "      <td>0</td>\n",
              "      <td>0</td>\n",
              "      <td>0</td>\n",
              "      <td>0.000000</td>\n",
              "      <td>...</td>\n",
              "      <td>0</td>\n",
              "      <td>0.0</td>\n",
              "      <td>0.0</td>\n",
              "      <td>0</td>\n",
              "      <td>0</td>\n",
              "      <td>56320733.0</td>\n",
              "      <td>114.551299</td>\n",
              "      <td>56320814</td>\n",
              "      <td>56320652</td>\n",
              "      <td>Benign</td>\n",
              "    </tr>\n",
              "    <tr>\n",
              "      <th>2</th>\n",
              "      <td>0</td>\n",
              "      <td>0</td>\n",
              "      <td>112638623</td>\n",
              "      <td>3</td>\n",
              "      <td>0</td>\n",
              "      <td>0</td>\n",
              "      <td>0</td>\n",
              "      <td>0</td>\n",
              "      <td>0</td>\n",
              "      <td>0.000000</td>\n",
              "      <td>...</td>\n",
              "      <td>0</td>\n",
              "      <td>0.0</td>\n",
              "      <td>0.0</td>\n",
              "      <td>0</td>\n",
              "      <td>0</td>\n",
              "      <td>56319311.5</td>\n",
              "      <td>301.934596</td>\n",
              "      <td>56319525</td>\n",
              "      <td>56319098</td>\n",
              "      <td>Benign</td>\n",
              "    </tr>\n",
              "    <tr>\n",
              "      <th>3</th>\n",
              "      <td>22</td>\n",
              "      <td>6</td>\n",
              "      <td>6453966</td>\n",
              "      <td>15</td>\n",
              "      <td>10</td>\n",
              "      <td>1239</td>\n",
              "      <td>2273</td>\n",
              "      <td>744</td>\n",
              "      <td>0</td>\n",
              "      <td>82.600000</td>\n",
              "      <td>...</td>\n",
              "      <td>32</td>\n",
              "      <td>0.0</td>\n",
              "      <td>0.0</td>\n",
              "      <td>0</td>\n",
              "      <td>0</td>\n",
              "      <td>0.0</td>\n",
              "      <td>0.000000</td>\n",
              "      <td>0</td>\n",
              "      <td>0</td>\n",
              "      <td>Benign</td>\n",
              "    </tr>\n",
              "    <tr>\n",
              "      <th>4</th>\n",
              "      <td>22</td>\n",
              "      <td>6</td>\n",
              "      <td>8804066</td>\n",
              "      <td>14</td>\n",
              "      <td>11</td>\n",
              "      <td>1143</td>\n",
              "      <td>2209</td>\n",
              "      <td>744</td>\n",
              "      <td>0</td>\n",
              "      <td>81.642857</td>\n",
              "      <td>...</td>\n",
              "      <td>32</td>\n",
              "      <td>0.0</td>\n",
              "      <td>0.0</td>\n",
              "      <td>0</td>\n",
              "      <td>0</td>\n",
              "      <td>0.0</td>\n",
              "      <td>0.000000</td>\n",
              "      <td>0</td>\n",
              "      <td>0</td>\n",
              "      <td>Benign</td>\n",
              "    </tr>\n",
              "    <tr>\n",
              "      <th>...</th>\n",
              "      <td>...</td>\n",
              "      <td>...</td>\n",
              "      <td>...</td>\n",
              "      <td>...</td>\n",
              "      <td>...</td>\n",
              "      <td>...</td>\n",
              "      <td>...</td>\n",
              "      <td>...</td>\n",
              "      <td>...</td>\n",
              "      <td>...</td>\n",
              "      <td>...</td>\n",
              "      <td>...</td>\n",
              "      <td>...</td>\n",
              "      <td>...</td>\n",
              "      <td>...</td>\n",
              "      <td>...</td>\n",
              "      <td>...</td>\n",
              "      <td>...</td>\n",
              "      <td>...</td>\n",
              "      <td>...</td>\n",
              "      <td>...</td>\n",
              "    </tr>\n",
              "    <tr>\n",
              "      <th>1048570</th>\n",
              "      <td>80</td>\n",
              "      <td>6</td>\n",
              "      <td>10156986</td>\n",
              "      <td>5</td>\n",
              "      <td>5</td>\n",
              "      <td>1089</td>\n",
              "      <td>1923</td>\n",
              "      <td>587</td>\n",
              "      <td>0</td>\n",
              "      <td>217.800000</td>\n",
              "      <td>...</td>\n",
              "      <td>20</td>\n",
              "      <td>0.0</td>\n",
              "      <td>0.0</td>\n",
              "      <td>0</td>\n",
              "      <td>0</td>\n",
              "      <td>0.0</td>\n",
              "      <td>0.000000</td>\n",
              "      <td>0</td>\n",
              "      <td>0</td>\n",
              "      <td>Benign</td>\n",
              "    </tr>\n",
              "    <tr>\n",
              "      <th>1048571</th>\n",
              "      <td>80</td>\n",
              "      <td>6</td>\n",
              "      <td>117</td>\n",
              "      <td>2</td>\n",
              "      <td>0</td>\n",
              "      <td>0</td>\n",
              "      <td>0</td>\n",
              "      <td>0</td>\n",
              "      <td>0</td>\n",
              "      <td>0.000000</td>\n",
              "      <td>...</td>\n",
              "      <td>20</td>\n",
              "      <td>0.0</td>\n",
              "      <td>0.0</td>\n",
              "      <td>0</td>\n",
              "      <td>0</td>\n",
              "      <td>0.0</td>\n",
              "      <td>0.000000</td>\n",
              "      <td>0</td>\n",
              "      <td>0</td>\n",
              "      <td>Benign</td>\n",
              "    </tr>\n",
              "    <tr>\n",
              "      <th>1048572</th>\n",
              "      <td>80</td>\n",
              "      <td>6</td>\n",
              "      <td>5095331</td>\n",
              "      <td>3</td>\n",
              "      <td>1</td>\n",
              "      <td>0</td>\n",
              "      <td>0</td>\n",
              "      <td>0</td>\n",
              "      <td>0</td>\n",
              "      <td>0.000000</td>\n",
              "      <td>...</td>\n",
              "      <td>20</td>\n",
              "      <td>0.0</td>\n",
              "      <td>0.0</td>\n",
              "      <td>0</td>\n",
              "      <td>0</td>\n",
              "      <td>0.0</td>\n",
              "      <td>0.000000</td>\n",
              "      <td>0</td>\n",
              "      <td>0</td>\n",
              "      <td>Benign</td>\n",
              "    </tr>\n",
              "    <tr>\n",
              "      <th>1048573</th>\n",
              "      <td>80</td>\n",
              "      <td>6</td>\n",
              "      <td>5235511</td>\n",
              "      <td>3</td>\n",
              "      <td>1</td>\n",
              "      <td>0</td>\n",
              "      <td>0</td>\n",
              "      <td>0</td>\n",
              "      <td>0</td>\n",
              "      <td>0.000000</td>\n",
              "      <td>...</td>\n",
              "      <td>20</td>\n",
              "      <td>0.0</td>\n",
              "      <td>0.0</td>\n",
              "      <td>0</td>\n",
              "      <td>0</td>\n",
              "      <td>0.0</td>\n",
              "      <td>0.000000</td>\n",
              "      <td>0</td>\n",
              "      <td>0</td>\n",
              "      <td>Benign</td>\n",
              "    </tr>\n",
              "    <tr>\n",
              "      <th>1048574</th>\n",
              "      <td>443</td>\n",
              "      <td>6</td>\n",
              "      <td>5807256</td>\n",
              "      <td>6</td>\n",
              "      <td>4</td>\n",
              "      <td>327</td>\n",
              "      <td>145</td>\n",
              "      <td>245</td>\n",
              "      <td>0</td>\n",
              "      <td>54.500000</td>\n",
              "      <td>...</td>\n",
              "      <td>20</td>\n",
              "      <td>291569.0</td>\n",
              "      <td>0.0</td>\n",
              "      <td>291569</td>\n",
              "      <td>291569</td>\n",
              "      <td>5515650.0</td>\n",
              "      <td>0.000000</td>\n",
              "      <td>5515650</td>\n",
              "      <td>5515650</td>\n",
              "      <td>Benign</td>\n",
              "    </tr>\n",
              "  </tbody>\n",
              "</table>\n",
              "<p>1046298 rows × 79 columns</p>\n",
              "</div>\n",
              "      <button class=\"colab-df-convert\" onclick=\"convertToInteractive('df-9d19dc62-e620-42d3-bc42-6171fb7c15cd')\"\n",
              "              title=\"Convert this dataframe to an interactive table.\"\n",
              "              style=\"display:none;\">\n",
              "        \n",
              "  <svg xmlns=\"http://www.w3.org/2000/svg\" height=\"24px\"viewBox=\"0 0 24 24\"\n",
              "       width=\"24px\">\n",
              "    <path d=\"M0 0h24v24H0V0z\" fill=\"none\"/>\n",
              "    <path d=\"M18.56 5.44l.94 2.06.94-2.06 2.06-.94-2.06-.94-.94-2.06-.94 2.06-2.06.94zm-11 1L8.5 8.5l.94-2.06 2.06-.94-2.06-.94L8.5 2.5l-.94 2.06-2.06.94zm10 10l.94 2.06.94-2.06 2.06-.94-2.06-.94-.94-2.06-.94 2.06-2.06.94z\"/><path d=\"M17.41 7.96l-1.37-1.37c-.4-.4-.92-.59-1.43-.59-.52 0-1.04.2-1.43.59L10.3 9.45l-7.72 7.72c-.78.78-.78 2.05 0 2.83L4 21.41c.39.39.9.59 1.41.59.51 0 1.02-.2 1.41-.59l7.78-7.78 2.81-2.81c.8-.78.8-2.07 0-2.86zM5.41 20L4 18.59l7.72-7.72 1.47 1.35L5.41 20z\"/>\n",
              "  </svg>\n",
              "      </button>\n",
              "      \n",
              "  <style>\n",
              "    .colab-df-container {\n",
              "      display:flex;\n",
              "      flex-wrap:wrap;\n",
              "      gap: 12px;\n",
              "    }\n",
              "\n",
              "    .colab-df-convert {\n",
              "      background-color: #E8F0FE;\n",
              "      border: none;\n",
              "      border-radius: 50%;\n",
              "      cursor: pointer;\n",
              "      display: none;\n",
              "      fill: #1967D2;\n",
              "      height: 32px;\n",
              "      padding: 0 0 0 0;\n",
              "      width: 32px;\n",
              "    }\n",
              "\n",
              "    .colab-df-convert:hover {\n",
              "      background-color: #E2EBFA;\n",
              "      box-shadow: 0px 1px 2px rgba(60, 64, 67, 0.3), 0px 1px 3px 1px rgba(60, 64, 67, 0.15);\n",
              "      fill: #174EA6;\n",
              "    }\n",
              "\n",
              "    [theme=dark] .colab-df-convert {\n",
              "      background-color: #3B4455;\n",
              "      fill: #D2E3FC;\n",
              "    }\n",
              "\n",
              "    [theme=dark] .colab-df-convert:hover {\n",
              "      background-color: #434B5C;\n",
              "      box-shadow: 0px 1px 3px 1px rgba(0, 0, 0, 0.15);\n",
              "      filter: drop-shadow(0px 1px 2px rgba(0, 0, 0, 0.3));\n",
              "      fill: #FFFFFF;\n",
              "    }\n",
              "  </style>\n",
              "\n",
              "      <script>\n",
              "        const buttonEl =\n",
              "          document.querySelector('#df-9d19dc62-e620-42d3-bc42-6171fb7c15cd button.colab-df-convert');\n",
              "        buttonEl.style.display =\n",
              "          google.colab.kernel.accessAllowed ? 'block' : 'none';\n",
              "\n",
              "        async function convertToInteractive(key) {\n",
              "          const element = document.querySelector('#df-9d19dc62-e620-42d3-bc42-6171fb7c15cd');\n",
              "          const dataTable =\n",
              "            await google.colab.kernel.invokeFunction('convertToInteractive',\n",
              "                                                     [key], {});\n",
              "          if (!dataTable) return;\n",
              "\n",
              "          const docLinkHtml = 'Like what you see? Visit the ' +\n",
              "            '<a target=\"_blank\" href=https://colab.research.google.com/notebooks/data_table.ipynb>data table notebook</a>'\n",
              "            + ' to learn more about interactive tables.';\n",
              "          element.innerHTML = '';\n",
              "          dataTable['output_type'] = 'display_data';\n",
              "          await google.colab.output.renderOutput(dataTable, element);\n",
              "          const docLink = document.createElement('div');\n",
              "          docLink.innerHTML = docLinkHtml;\n",
              "          element.appendChild(docLink);\n",
              "        }\n",
              "      </script>\n",
              "    </div>\n",
              "  </div>\n",
              "  "
            ],
            "text/plain": [
              "         Dst Port  Protocol  Flow Duration  Tot Fwd Pkts  Tot Bwd Pkts  \\\n",
              "0               0         0      112641719             3             0   \n",
              "1               0         0      112641466             3             0   \n",
              "2               0         0      112638623             3             0   \n",
              "3              22         6        6453966            15            10   \n",
              "4              22         6        8804066            14            11   \n",
              "...           ...       ...            ...           ...           ...   \n",
              "1048570        80         6       10156986             5             5   \n",
              "1048571        80         6            117             2             0   \n",
              "1048572        80         6        5095331             3             1   \n",
              "1048573        80         6        5235511             3             1   \n",
              "1048574       443         6        5807256             6             4   \n",
              "\n",
              "         TotLen Fwd Pkts  TotLen Bwd Pkts  Fwd Pkt Len Max  Fwd Pkt Len Min  \\\n",
              "0                      0                0                0                0   \n",
              "1                      0                0                0                0   \n",
              "2                      0                0                0                0   \n",
              "3                   1239             2273              744                0   \n",
              "4                   1143             2209              744                0   \n",
              "...                  ...              ...              ...              ...   \n",
              "1048570             1089             1923              587                0   \n",
              "1048571                0                0                0                0   \n",
              "1048572                0                0                0                0   \n",
              "1048573                0                0                0                0   \n",
              "1048574              327              145              245                0   \n",
              "\n",
              "         Fwd Pkt Len Mean  ...  Fwd Seg Size Min  Active Mean  Active Std  \\\n",
              "0                0.000000  ...                 0          0.0         0.0   \n",
              "1                0.000000  ...                 0          0.0         0.0   \n",
              "2                0.000000  ...                 0          0.0         0.0   \n",
              "3               82.600000  ...                32          0.0         0.0   \n",
              "4               81.642857  ...                32          0.0         0.0   \n",
              "...                   ...  ...               ...          ...         ...   \n",
              "1048570        217.800000  ...                20          0.0         0.0   \n",
              "1048571          0.000000  ...                20          0.0         0.0   \n",
              "1048572          0.000000  ...                20          0.0         0.0   \n",
              "1048573          0.000000  ...                20          0.0         0.0   \n",
              "1048574         54.500000  ...                20     291569.0         0.0   \n",
              "\n",
              "         Active Max  Active Min   Idle Mean    Idle Std  Idle Max  Idle Min  \\\n",
              "0                 0           0  56320859.5  139.300036  56320958  56320761   \n",
              "1                 0           0  56320733.0  114.551299  56320814  56320652   \n",
              "2                 0           0  56319311.5  301.934596  56319525  56319098   \n",
              "3                 0           0         0.0    0.000000         0         0   \n",
              "4                 0           0         0.0    0.000000         0         0   \n",
              "...             ...         ...         ...         ...       ...       ...   \n",
              "1048570           0           0         0.0    0.000000         0         0   \n",
              "1048571           0           0         0.0    0.000000         0         0   \n",
              "1048572           0           0         0.0    0.000000         0         0   \n",
              "1048573           0           0         0.0    0.000000         0         0   \n",
              "1048574      291569      291569   5515650.0    0.000000   5515650   5515650   \n",
              "\n",
              "          Label  \n",
              "0        Benign  \n",
              "1        Benign  \n",
              "2        Benign  \n",
              "3        Benign  \n",
              "4        Benign  \n",
              "...         ...  \n",
              "1048570  Benign  \n",
              "1048571  Benign  \n",
              "1048572  Benign  \n",
              "1048573  Benign  \n",
              "1048574  Benign  \n",
              "\n",
              "[1046298 rows x 79 columns]"
            ]
          },
          "execution_count": 64,
          "metadata": {},
          "output_type": "execute_result"
        }
      ],
      "source": [
        "df = df.drop(['Timestamp'], axis=1) # Reorder this\n",
        "df.dropna(inplace=True)\n",
        "df"
      ]
    },
    {
      "cell_type": "code",
      "execution_count": null,
      "metadata": {
        "colab": {
          "base_uri": "https://localhost:8080/"
        },
        "id": "iz9yCQ_NDV4x",
        "outputId": "fcfc1989-86fb-4e5f-d9a4-62c78b8d8c9b"
      },
      "outputs": [
        {
          "data": {
            "text/plain": [
              "Benign            665355\n",
              "FTP-BruteForce    193354\n",
              "SSH-Bruteforce    187589\n",
              "Name: Label, dtype: int64"
            ]
          },
          "execution_count": 65,
          "metadata": {},
          "output_type": "execute_result"
        }
      ],
      "source": [
        "df[\"Label\"].value_counts()\n"
      ]
    },
    {
      "cell_type": "code",
      "execution_count": null,
      "metadata": {
        "colab": {
          "base_uri": "https://localhost:8080/"
        },
        "id": "c_d1R9QxEx8t",
        "outputId": "2fcb4435-ffe7-44e5-fc84-1574f082b035"
      },
      "outputs": [
        {
          "data": {
            "text/plain": [
              "Benign       380943\n",
              "Malicious    380943\n",
              "Name: Label, dtype: int64"
            ]
          },
          "execution_count": 66,
          "metadata": {},
          "output_type": "execute_result"
        }
      ],
      "source": [
        "df.replace(to_replace=[\"FTP-BruteForce\", \"SSH-Bruteforce\"], value=\"Malicious\", inplace=True)\n",
        "df1 = df[df[\"Label\"] == \"Benign\"][:380943]\n",
        "df2 = df[df[\"Label\"] == \"Malicious\"][:380943]\n",
        "df_equal = pd.concat([df1,df2], axis =0)\n",
        "df_equal[\"Label\"].value_counts()"
      ]
    },
    {
      "cell_type": "code",
      "execution_count": null,
      "metadata": {
        "id": "dtC9pDXWIgBS"
      },
      "outputs": [],
      "source": [
        "df = df_equal\n",
        "df.replace(to_replace=\"Benign\", value=0, inplace=True)\n",
        "df.replace(to_replace=\"Malicious\", value=1, inplace=True)\n",
        "df.replace([np.inf, -np.inf], np.nan, inplace=True)\n",
        "df.dropna(inplace=True)"
      ]
    },
    {
      "cell_type": "code",
      "execution_count": null,
      "metadata": {
        "colab": {
          "base_uri": "https://localhost:8080/"
        },
        "id": "xVJY9ESJKwQo",
        "outputId": "f47783f9-f950-49cb-c519-e06fd80285f3"
      },
      "outputs": [
        {
          "name": "stdout",
          "output_type": "stream",
          "text": [
            "<class 'pandas.core.frame.DataFrame'>\n",
            "Int64Index: 761053 entries, 0 to 383186\n",
            "Data columns (total 78 columns):\n",
            " #   Column             Non-Null Count   Dtype  \n",
            "---  ------             --------------   -----  \n",
            " 0   Dst Port           761053 non-null  int64  \n",
            " 1   Protocol           761053 non-null  int64  \n",
            " 2   Flow Duration      761053 non-null  int64  \n",
            " 3   Tot Fwd Pkts       761053 non-null  int64  \n",
            " 4   Tot Bwd Pkts       761053 non-null  int64  \n",
            " 5   TotLen Fwd Pkts    761053 non-null  int64  \n",
            " 6   TotLen Bwd Pkts    761053 non-null  int64  \n",
            " 7   Fwd Pkt Len Max    761053 non-null  int64  \n",
            " 8   Fwd Pkt Len Min    761053 non-null  int64  \n",
            " 9   Fwd Pkt Len Mean   761053 non-null  float64\n",
            " 10  Fwd Pkt Len Std    761053 non-null  float64\n",
            " 11  Bwd Pkt Len Max    761053 non-null  int64  \n",
            " 12  Bwd Pkt Len Min    761053 non-null  int64  \n",
            " 13  Bwd Pkt Len Mean   761053 non-null  float64\n",
            " 14  Bwd Pkt Len Std    761053 non-null  float64\n",
            " 15  Flow Byts/s        761053 non-null  float64\n",
            " 16  Flow Pkts/s        761053 non-null  float64\n",
            " 17  Flow IAT Mean      761053 non-null  float64\n",
            " 18  Flow IAT Std       761053 non-null  float64\n",
            " 19  Flow IAT Max       761053 non-null  int64  \n",
            " 20  Flow IAT Min       761053 non-null  int64  \n",
            " 21  Fwd IAT Tot        761053 non-null  int64  \n",
            " 22  Fwd IAT Mean       761053 non-null  float64\n",
            " 23  Fwd IAT Std        761053 non-null  float64\n",
            " 24  Fwd IAT Max        761053 non-null  int64  \n",
            " 25  Fwd IAT Min        761053 non-null  int64  \n",
            " 26  Bwd IAT Tot        761053 non-null  int64  \n",
            " 27  Bwd IAT Mean       761053 non-null  float64\n",
            " 28  Bwd IAT Std        761053 non-null  float64\n",
            " 29  Bwd IAT Max        761053 non-null  int64  \n",
            " 30  Bwd IAT Min        761053 non-null  int64  \n",
            " 31  Fwd PSH Flags      761053 non-null  int64  \n",
            " 32  Bwd PSH Flags      761053 non-null  int64  \n",
            " 33  Fwd URG Flags      761053 non-null  int64  \n",
            " 34  Bwd URG Flags      761053 non-null  int64  \n",
            " 35  Fwd Header Len     761053 non-null  int64  \n",
            " 36  Bwd Header Len     761053 non-null  int64  \n",
            " 37  Fwd Pkts/s         761053 non-null  float64\n",
            " 38  Bwd Pkts/s         761053 non-null  float64\n",
            " 39  Pkt Len Min        761053 non-null  int64  \n",
            " 40  Pkt Len Max        761053 non-null  int64  \n",
            " 41  Pkt Len Mean       761053 non-null  float64\n",
            " 42  Pkt Len Std        761053 non-null  float64\n",
            " 43  Pkt Len Var        761053 non-null  float64\n",
            " 44  FIN Flag Cnt       761053 non-null  int64  \n",
            " 45  SYN Flag Cnt       761053 non-null  int64  \n",
            " 46  RST Flag Cnt       761053 non-null  int64  \n",
            " 47  PSH Flag Cnt       761053 non-null  int64  \n",
            " 48  ACK Flag Cnt       761053 non-null  int64  \n",
            " 49  URG Flag Cnt       761053 non-null  int64  \n",
            " 50  CWE Flag Count     761053 non-null  int64  \n",
            " 51  ECE Flag Cnt       761053 non-null  int64  \n",
            " 52  Down/Up Ratio      761053 non-null  int64  \n",
            " 53  Pkt Size Avg       761053 non-null  float64\n",
            " 54  Fwd Seg Size Avg   761053 non-null  float64\n",
            " 55  Bwd Seg Size Avg   761053 non-null  float64\n",
            " 56  Fwd Byts/b Avg     761053 non-null  int64  \n",
            " 57  Fwd Pkts/b Avg     761053 non-null  int64  \n",
            " 58  Fwd Blk Rate Avg   761053 non-null  int64  \n",
            " 59  Bwd Byts/b Avg     761053 non-null  int64  \n",
            " 60  Bwd Pkts/b Avg     761053 non-null  int64  \n",
            " 61  Bwd Blk Rate Avg   761053 non-null  int64  \n",
            " 62  Subflow Fwd Pkts   761053 non-null  int64  \n",
            " 63  Subflow Fwd Byts   761053 non-null  int64  \n",
            " 64  Subflow Bwd Pkts   761053 non-null  int64  \n",
            " 65  Subflow Bwd Byts   761053 non-null  int64  \n",
            " 66  Init Fwd Win Byts  761053 non-null  int64  \n",
            " 67  Init Bwd Win Byts  761053 non-null  int64  \n",
            " 68  Fwd Act Data Pkts  761053 non-null  int64  \n",
            " 69  Fwd Seg Size Min   761053 non-null  int64  \n",
            " 70  Active Mean        761053 non-null  float64\n",
            " 71  Active Std         761053 non-null  float64\n",
            " 72  Active Max         761053 non-null  int64  \n",
            " 73  Active Min         761053 non-null  int64  \n",
            " 74  Idle Mean          761053 non-null  float64\n",
            " 75  Idle Std           761053 non-null  float64\n",
            " 76  Idle Max           761053 non-null  int64  \n",
            " 77  Idle Min           761053 non-null  int64  \n",
            "dtypes: float64(24), int64(54)\n",
            "memory usage: 458.7 MB\n"
          ]
        }
      ],
      "source": [
        "X = df.drop(['Label'], axis=1)\n",
        "Y = df['Label']\n",
        "X.info()\n"
      ]
    },
    {
      "cell_type": "code",
      "execution_count": null,
      "metadata": {
        "id": "0zFOtGORM-Oo"
      },
      "outputs": [],
      "source": [
        "scaler = MinMaxScaler()\n",
        "X = scaler.fit_transform(X)"
      ]
    },
    {
      "cell_type": "code",
      "execution_count": null,
      "metadata": {
        "id": "7Agq1x_fG5us"
      },
      "outputs": [],
      "source": [
        "Xtrain, Xtest, Ytrain, Ytest = train_test_split(X, Y, test_size=0.3, random_state=RANDOM_STATE_SEED, shuffle=True)"
      ]
    },
    {
      "cell_type": "code",
      "execution_count": null,
      "metadata": {
        "colab": {
          "base_uri": "https://localhost:8080/"
        },
        "id": "n5ILG4D1UCh-",
        "outputId": "22501ff7-69c8-49c0-e054-f7754b5c46f3"
      },
      "outputs": [
        {
          "name": "stdout",
          "output_type": "stream",
          "text": [
            "(532737, 78)\n",
            "(228316, 78)\n",
            "(532737,)\n",
            "(228316,)\n"
          ]
        }
      ],
      "source": [
        "print(Xtrain.shape)\n",
        "print(Xtest.shape)\n",
        "print(Ytrain.shape)\n",
        "print(Ytest.shape)"
      ]
    },
    {
      "cell_type": "code",
      "execution_count": null,
      "metadata": {
        "id": "knAaoD2aUXCg"
      },
      "outputs": [],
      "source": [
        "model = RandomForestClassifier(\n",
        "    n_estimators=100,\n",
        "    criterion='gini',\n",
        "    max_depth=None,\n",
        "    min_samples_split=2,\n",
        "    min_samples_leaf=1,\n",
        "    min_weight_fraction_leaf=0.0,\n",
        "    max_features='auto',\n",
        "    max_leaf_nodes=None,\n",
        "    min_impurity_decrease=0.0,\n",
        "    bootstrap=True,\n",
        "    oob_score=False,\n",
        "    n_jobs=None,\n",
        "    random_state=None,\n",
        "    verbose=0,\n",
        "    warm_start=False,\n",
        "    ccp_alpha=0.0,\n",
        "    max_samples=None\n",
        ")\n",
        "\n",
        "hyperparameters = {\n",
        "    'n_estimators': [50, 75, 100, 125, 150]\n",
        "}"
      ]
    },
    {
      "cell_type": "code",
      "execution_count": null,
      "metadata": {
        "id": "PcRrFFi8UklJ"
      },
      "outputs": [],
      "source": [
        "clf = GridSearchCV(\n",
        "    estimator=model,\n",
        "    param_grid=hyperparameters,\n",
        "    cv=5,\n",
        "    verbose=1,\n",
        "    n_jobs=-1  # Use all available CPU cores\n",
        ")"
      ]
    },
    {
      "cell_type": "code",
      "execution_count": null,
      "metadata": {
        "colab": {
          "background_save": true,
          "base_uri": "https://localhost:8080/"
        },
        "id": "jjgxj_-EUlQg",
        "outputId": "ab3391b9-9cb0-4ff9-f907-14bd0bda7c51"
      },
      "outputs": [
        {
          "name": "stdout",
          "output_type": "stream",
          "text": [
            "Fitting 5 folds for each of 5 candidates, totalling 25 fits\n"
          ]
        },
        {
          "data": {
            "text/plain": [
              "GridSearchCV(cv=5, estimator=RandomForestClassifier(), n_jobs=-1,\n",
              "             param_grid={'n_estimators': [50, 75, 100, 125, 150]}, verbose=1)"
            ]
          },
          "execution_count": 22,
          "metadata": {},
          "output_type": "execute_result"
        }
      ],
      "source": [
        "clf.fit(X=Xtrain, y=Ytrain)\n"
      ]
    },
    {
      "cell_type": "code",
      "execution_count": null,
      "metadata": {
        "id": "b7X_pr0tUzZJ"
      },
      "outputs": [],
      "source": [
        "print(\"Accuracy score on Validation set: \\n\")\n",
        "print(clf.best_score_ )\n",
        "print(\"---------------\")\n",
        "print(\"Best performing hyperparameters on Validation set: \")\n",
        "print(clf.best_params_)\n",
        "print(\"---------------\")\n",
        "print(clf.best_estimator_)"
      ]
    },
    {
      "cell_type": "code",
      "execution_count": null,
      "metadata": {
        "id": "TBjLW6LQu67Z"
      },
      "outputs": [],
      "source": [
        "model = clf.best_estimator_"
      ]
    },
    {
      "cell_type": "code",
      "execution_count": null,
      "metadata": {
        "id": "Lq-k5vRmu7S2"
      },
      "outputs": [],
      "source": [
        "model"
      ]
    },
    {
      "cell_type": "code",
      "execution_count": null,
      "metadata": {
        "id": "jNG5Jfrru8v5"
      },
      "outputs": [],
      "source": [
        "predictions = model.predict(Xtest)"
      ]
    },
    {
      "cell_type": "code",
      "execution_count": null,
      "metadata": {
        "id": "Ylsc66IUvESM"
      },
      "outputs": [],
      "source": [
        "print(accuracy_score(Ytest, predictions))"
      ]
    },
    {
      "cell_type": "code",
      "execution_count": null,
      "metadata": {
        "id": "kM_WnPiAvF2N"
      },
      "outputs": [],
      "source": [
        "from sklearn.metrics import confusion_matrix\n",
        "cf_matrix = confusion_matrix(Ytest, predictions)\n",
        "import seaborn as sns\n",
        "sns.heatmap(cf_matrix, annot=True)"
      ]
    },
    {
      "cell_type": "code",
      "execution_count": null,
      "metadata": {
        "id": "9eexFhIgvHak"
      },
      "outputs": [],
      "source": [
        "import tensorflow as tf\n",
        "from tensorflow import keras\n",
        "from tensorflow.python.keras import layers"
      ]
    },
    {
      "cell_type": "code",
      "execution_count": null,
      "metadata": {
        "id": "yhVIUmhavJL1"
      },
      "outputs": [],
      "source": [
        "neuralNetModel = keras.Sequential([\n",
        "    layers.InputLayer(input_shape=(78,)),\n",
        "       \n",
        "    layers.BatchNormalization(renorm=True),\n",
        "    layers.Dense(128, activation='relu'),\n",
        "    layers.Dropout(rate = 0.3),\n",
        "    layers.BatchNormalization(renorm=True),\n",
        "    layers.Dense(64, activation='relu'),\n",
        "    layers.Dropout(rate = 0.3),\n",
        "    layers.BatchNormalization(renorm=True),\n",
        "    layers.Dense(32, activation='relu'),\n",
        "    layers.Dropout(rate = 0.3),\n",
        "    layers.Dense(1, activation='sigmoid'),\n",
        "])\n",
        "\n",
        "neuralNetModel.summary()"
      ]
    },
    {
      "cell_type": "code",
      "execution_count": null,
      "metadata": {
        "id": "unbXGmzkvK9t"
      },
      "outputs": [],
      "source": [
        "optimizer = tf.keras.optimizers.Adam(epsilon=0.01)\n",
        "\n",
        "from tensorflow.keras import callbacks\n",
        "\n",
        "early_stopping = callbacks.EarlyStopping(\n",
        "    min_delta = 0.001,\n",
        "    patience = 5,\n",
        "    restore_best_weights = True\n",
        ")\n",
        "\n",
        "neuralNetModel.compile(\n",
        "    optimizer=optimizer,\n",
        "    loss='binary_crossentropy',\n",
        "    metrics=['binary_accuracy'],\n",
        ")\n",
        "\n",
        "history = neuralNetModel.fit(\n",
        "    Xtrain, Ytrain,\n",
        "    epochs=50,\n",
        "    batch_size = 256,\n",
        "    callbacks=[early_stopping]\n",
        ")\n",
        "\n",
        "history_frame = pd.DataFrame(history.history)\n",
        "history_frame.loc[:, ['loss']].plot()\n",
        "history_frame.loc[:, ['binary_accuracy']].plot();"
      ]
    },
    {
      "cell_type": "code",
      "execution_count": null,
      "metadata": {
        "id": "jxs5hP0IvOK5"
      },
      "outputs": [],
      "source": [
        "predictions=(neuralNetModel.predict(Xtest) > 0.5).astype(\"int32\")"
      ]
    },
    {
      "cell_type": "code",
      "execution_count": null,
      "metadata": {
        "id": "lej1kTx6vOQF"
      },
      "outputs": [],
      "source": [
        "print(accuracy_score(Ytest, predictions))"
      ]
    },
    {
      "cell_type": "code",
      "execution_count": null,
      "metadata": {
        "id": "jA2FSlktvS2X"
      },
      "outputs": [],
      "source": [
        "from sklearn.metrics import confusion_matrix\n",
        "cf_matrix = confusion_matrix(Ytest, predictions)\n",
        "import seaborn as sns\n",
        "sns.heatmap(cf_matrix, annot=True)"
      ]
    },
    {
      "cell_type": "code",
      "execution_count": null,
      "metadata": {
        "id": "d9Y1chQXvUH1"
      },
      "outputs": [],
      "source": [
        "def freq_count(data):\n",
        "    mp = dict();\n",
        "    for i in data:\n",
        "        if i in mp:\n",
        "            mp[i] = mp[i]+1\n",
        "        else:\n",
        "            mp[i] = 1\n",
        "    return mp\n",
        "\n",
        "Ytrain[Ytrain == 1] = -1\n",
        "Ytrain[Ytrain == 0] = 1\n",
        "print(freq_count(Ytrain))\n",
        "\n",
        "Ytest[Ytest == 1] = -1\n",
        "Ytest[Ytest == 0] = 1\n",
        "freq_count(Ytest)"
      ]
    },
    {
      "cell_type": "code",
      "execution_count": null,
      "metadata": {
        "id": "alRsZTG9xbYF"
      },
      "outputs": [],
      "source": [
        "from sklearn.ensemble import IsolationForest\n",
        "iFM = IsolationForest(\n",
        "    n_estimators = 100,\n",
        "    max_samples = \"auto\",\n",
        "    random_state = 42,\n",
        "    warm_start = False\n",
        ")"
      ]
    },
    {
      "cell_type": "code",
      "execution_count": null,
      "metadata": {
        "id": "QlydZsnCxc2D"
      },
      "outputs": [],
      "source": [
        "hyperparameters = {\n",
        "    'n_estimators': [50, 75, 100, 125, 150]\n",
        "}\n",
        "\n",
        "isolationForestCV = GridSearchCV(\n",
        "    estimator=iFM,\n",
        "    scoring = 'accuracy',\n",
        "    param_grid=hyperparameters,\n",
        "    cv=5,\n",
        "    verbose=1,\n",
        "    n_jobs=-1  # Use all available CPU cores\n",
        ")"
      ]
    },
    {
      "cell_type": "code",
      "execution_count": null,
      "metadata": {
        "id": "Vx5lX_bCxeL5"
      },
      "outputs": [],
      "source": [
        "isolationForestCV.fit(X = Xtrain, y = Ytrain)"
      ]
    },
    {
      "cell_type": "code",
      "execution_count": null,
      "metadata": {
        "id": "2M-bbNcvxflD"
      },
      "outputs": [],
      "source": [
        "print(\"Accuracy score on Validation set: \\n\")\n",
        "print(isolationForestCV.best_score_ )\n",
        "print(\"---------------\")\n",
        "print(\"Best performing hyperparameters on Validation set: \")\n",
        "print(isolationForestCV.best_params_)\n",
        "print(\"---------------\")\n",
        "print(isolationForestCV.best_estimator_)"
      ]
    },
    {
      "cell_type": "code",
      "execution_count": null,
      "metadata": {
        "id": "FCBDl3z4xhqT"
      },
      "outputs": [],
      "source": [
        "model = isolationForestCV.best_estimator_"
      ]
    },
    {
      "cell_type": "code",
      "execution_count": null,
      "metadata": {
        "id": "dXbBHCHUxjwP"
      },
      "outputs": [],
      "source": [
        "model"
      ]
    },
    {
      "cell_type": "code",
      "execution_count": null,
      "metadata": {
        "id": "Sms1w0ZdxmNf"
      },
      "outputs": [],
      "source": [
        "predictions = model.predict(Xtest)\n",
        "freq_count(predictions)"
      ]
    },
    {
      "cell_type": "code",
      "execution_count": null,
      "metadata": {
        "id": "VOnDYvqLyaFS"
      },
      "outputs": [],
      "source": [
        "print(accuracy_score(Ytest, predictions))"
      ]
    },
    {
      "cell_type": "code",
      "execution_count": null,
      "metadata": {
        "id": "6Mt6AOQGybXF"
      },
      "outputs": [],
      "source": [
        "from sklearn.metrics import confusion_matrix\n",
        "cf_matrix = confusion_matrix(Ytest, predictions)\n",
        "cf_matrix"
      ]
    },
    {
      "cell_type": "code",
      "execution_count": null,
      "metadata": {
        "id": "lr_yVC2Bybgu"
      },
      "outputs": [],
      "source": [
        "import seaborn as sns\n",
        "sns.heatmap(cf_matrix, annot=True)"
      ]
    },
    {
      "cell_type": "code",
      "execution_count": null,
      "metadata": {
        "id": "g97hWehDyenW"
      },
      "outputs": [],
      "source": []
    }
  ],
  "metadata": {
    "colab": {
      "provenance": [],
      "include_colab_link": true
    },
    "gpuClass": "standard",
    "kernelspec": {
      "display_name": "Python 3",
      "name": "python3"
    },
    "language_info": {
      "name": "python"
    }
  },
  "nbformat": 4,
  "nbformat_minor": 0
}