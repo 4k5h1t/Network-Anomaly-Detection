{
  "nbformat": 4,
  "nbformat_minor": 0,
  "metadata": {
    "colab": {
      "provenance": [],
      "include_colab_link": true
    },
    "kernelspec": {
      "name": "python3",
      "display_name": "Python 3"
    },
    "language_info": {
      "name": "python"
    }
  },
  "cells": [
    {
      "cell_type": "markdown",
      "metadata": {
        "id": "view-in-github",
        "colab_type": "text"
      },
      "source": [
        "<a href=\"https://colab.research.google.com/github/4k5h1t/Network-Anomaly-Detection/blob/main/Model.ipynb\" target=\"_parent\"><img src=\"https://colab.research.google.com/assets/colab-badge.svg\" alt=\"Open In Colab\"/></a>"
      ]
    },
    {
      "cell_type": "code",
      "execution_count": null,
      "metadata": {
        "colab": {
          "base_uri": "https://localhost:8080/"
        },
        "id": "8VdNWzDMofmz",
        "outputId": "651a2fca-60cd-42e8-84da-7a58f97b6518"
      },
      "outputs": [
        {
          "output_type": "stream",
          "name": "stdout",
          "text": [
            "Drive already mounted at /content/gdrive; to attempt to forcibly remount, call drive.mount(\"/content/gdrive\", force_remount=True).\n",
            "/content/gdrive/My Drive/Kaggle\n"
          ]
        }
      ],
      "source": [
        "from google.colab import drive\n",
        "drive.mount('/content/gdrive')\n",
        "%cd /content/gdrive/My Drive/Kaggle\n",
        "import os\n",
        "os.environ['KAGGLE_CONFIG_DIR'] = \"/content/gdrive/My Drive/Kaggle\""
      ]
    },
    {
      "cell_type": "code",
      "source": [
        "# Data processing\n",
        "import pandas as pd\n",
        "import numpy as np\n",
        "from collections import Counter\n",
        "from sklearn.preprocessing import MinMaxScaler\n",
        "# Visualization\n",
        "import matplotlib.pyplot as plt\n",
        "import seaborn as sns\n",
        "# Model and performance\n",
        "import tensorflow as tf\n",
        "from tensorflow.python.keras import layers, losses\n",
        "from sklearn.model_selection import train_test_split\n",
        "from sklearn.metrics import classification_report\n",
        "from sklearn.preprocessing import MinMaxScaler\n",
        "\n",
        "RANDOM_STATE_SEED = 12"
      ],
      "metadata": {
        "id": "kqyc2VEspGWO"
      },
      "execution_count": null,
      "outputs": []
    },
    {
      "cell_type": "code",
      "source": [
        "df = pd.read_csv('/content/gdrive/My Drive/Kaggle/02-14-2018.csv')\n",
        "df = df.drop(['Timestamp'], axis=1)\n",
        "df.replace([-np.inf, np.inf], np.nan, inplace = True)\n",
        "df.dropna(inplace=True)\n",
        "df.replace(to_replace=[\"FTP-BruteForce\", \"SSH-Bruteforce\"], value=\"Malicious\", inplace=True)\n",
        "df.replace(to_replace = 'Benign', value = 0, inplace=True)\n",
        "df.replace(to_replace = 'Malicious', value = 1, inplace=True)\n",
        "# Initialize the scaler\n",
        "scaler = MinMaxScaler()\n",
        "scaler.fit(df)\n",
        "df = pd.DataFrame(scaler.transform(df), columns=df.columns)\n",
        "dfmal = df.loc[df['Label'] == 1]\n",
        "dfben = df.loc[df['Label'] == 0]\n",
        "dfben.drop('Label', axis=1, inplace=True)\n",
        "dfmal.drop('Label', axis=1, inplace=True)\n",
        "dfben = dfben.values\n",
        "dfmal = dfmal.values"
      ],
      "metadata": {
        "colab": {
          "base_uri": "https://localhost:8080/"
        },
        "id": "mMYpioGypJn2",
        "outputId": "29035316-e47c-41a2-d5a3-a49dff038164"
      },
      "execution_count": null,
      "outputs": [
        {
          "output_type": "stream",
          "name": "stderr",
          "text": [
            "<ipython-input-3-d6e649221fc1>:14: SettingWithCopyWarning: \n",
            "A value is trying to be set on a copy of a slice from a DataFrame\n",
            "\n",
            "See the caveats in the documentation: https://pandas.pydata.org/pandas-docs/stable/user_guide/indexing.html#returning-a-view-versus-a-copy\n",
            "  dfben.drop('Label', axis=1, inplace=True)\n",
            "<ipython-input-3-d6e649221fc1>:15: SettingWithCopyWarning: \n",
            "A value is trying to be set on a copy of a slice from a DataFrame\n",
            "\n",
            "See the caveats in the documentation: https://pandas.pydata.org/pandas-docs/stable/user_guide/indexing.html#returning-a-view-versus-a-copy\n",
            "  dfmal.drop('Label', axis=1, inplace=True)\n"
          ]
        }
      ]
    },
    {
      "cell_type": "code",
      "source": [
        "!pip install tensorflow-federated\n"
      ],
      "metadata": {
        "colab": {
          "base_uri": "https://localhost:8080/"
        },
        "id": "kNi8d9XVqa3v",
        "outputId": "eb90a22e-9fe2-4eae-980f-e00ef206b7f9"
      },
      "execution_count": null,
      "outputs": [
        {
          "output_type": "stream",
          "name": "stdout",
          "text": [
            "Looking in indexes: https://pypi.org/simple, https://us-python.pkg.dev/colab-wheels/public/simple/\n",
            "Requirement already satisfied: tensorflow-federated in /usr/local/lib/python3.10/dist-packages (0.59.0)\n",
            "Requirement already satisfied: absl-py==1.*,>=1.0 in /usr/local/lib/python3.10/dist-packages (from tensorflow-federated) (1.0.0)\n",
            "Requirement already satisfied: attrs~=21.4 in /usr/local/lib/python3.10/dist-packages (from tensorflow-federated) (21.4.0)\n",
            "Requirement already satisfied: cachetools~=3.1 in /usr/local/lib/python3.10/dist-packages (from tensorflow-federated) (3.1.1)\n",
            "Requirement already satisfied: dm-tree==0.1.8 in /usr/local/lib/python3.10/dist-packages (from tensorflow-federated) (0.1.8)\n",
            "Requirement already satisfied: dp-accounting==0.4.1 in /usr/local/lib/python3.10/dist-packages (from tensorflow-federated) (0.4.1)\n",
            "Requirement already satisfied: farmhashpy==0.4.0 in /usr/local/lib/python3.10/dist-packages (from tensorflow-federated) (0.4.0)\n",
            "Requirement already satisfied: google-vizier==0.1.4 in /usr/local/lib/python3.10/dist-packages (from tensorflow-federated) (0.1.4)\n",
            "Requirement already satisfied: grpcio~=1.46 in /usr/local/lib/python3.10/dist-packages (from tensorflow-federated) (1.48.2)\n",
            "Requirement already satisfied: jaxlib==0.3.15 in /usr/local/lib/python3.10/dist-packages (from tensorflow-federated) (0.3.15)\n",
            "Requirement already satisfied: jax==0.3.15 in /usr/local/lib/python3.10/dist-packages (from tensorflow-federated) (0.3.15)\n",
            "Requirement already satisfied: numpy~=1.21 in /usr/local/lib/python3.10/dist-packages (from tensorflow-federated) (1.22.4)\n",
            "Requirement already satisfied: portpicker~=1.5 in /usr/local/lib/python3.10/dist-packages (from tensorflow-federated) (1.5.2)\n",
            "Requirement already satisfied: pytype==2022.12.15 in /usr/local/lib/python3.10/dist-packages (from tensorflow-federated) (2022.12.15)\n",
            "Requirement already satisfied: semantic-version~=2.6 in /usr/local/lib/python3.10/dist-packages (from tensorflow-federated) (2.10.0)\n",
            "Requirement already satisfied: tensorflow-compression~=2.12.0 in /usr/local/lib/python3.10/dist-packages (from tensorflow-federated) (2.12.0)\n",
            "Requirement already satisfied: tensorflow-model-optimization==0.7.3 in /usr/local/lib/python3.10/dist-packages (from tensorflow-federated) (0.7.3)\n",
            "Requirement already satisfied: tensorflow-privacy==0.8.9 in /usr/local/lib/python3.10/dist-packages (from tensorflow-federated) (0.8.9)\n",
            "Requirement already satisfied: tensorflow~=2.12.0 in /usr/local/lib/python3.10/dist-packages (from tensorflow-federated) (2.12.0)\n",
            "Requirement already satisfied: tqdm~=4.64 in /usr/local/lib/python3.10/dist-packages (from tensorflow-federated) (4.65.0)\n",
            "Requirement already satisfied: typing-extensions~=4.4.0 in /usr/local/lib/python3.10/dist-packages (from tensorflow-federated) (4.4.0)\n",
            "Requirement already satisfied: six in /usr/local/lib/python3.10/dist-packages (from absl-py==1.*,>=1.0->tensorflow-federated) (1.16.0)\n",
            "Requirement already satisfied: mpmath~=1.2.1 in /usr/local/lib/python3.10/dist-packages (from dp-accounting==0.4.1->tensorflow-federated) (1.2.1)\n",
            "Requirement already satisfied: scipy~=1.7.1 in /usr/local/lib/python3.10/dist-packages (from dp-accounting==0.4.1->tensorflow-federated) (1.7.3)\n",
            "Requirement already satisfied: protobuf<4.0,>=3.6 in /usr/local/lib/python3.10/dist-packages (from google-vizier==0.1.4->tensorflow-federated) (3.20.3)\n",
            "Requirement already satisfied: grpcio-tools<=1.48.2,>=1.35.0 in /usr/local/lib/python3.10/dist-packages (from google-vizier==0.1.4->tensorflow-federated) (1.48.2)\n",
            "Requirement already satisfied: googleapis-common-protos>=1.56.4 in /usr/local/lib/python3.10/dist-packages (from google-vizier==0.1.4->tensorflow-federated) (1.59.0)\n",
            "Requirement already satisfied: sqlalchemy==1.4 in /usr/local/lib/python3.10/dist-packages (from google-vizier==0.1.4->tensorflow-federated) (1.4.0)\n",
            "Requirement already satisfied: opt-einsum in /usr/local/lib/python3.10/dist-packages (from jax==0.3.15->tensorflow-federated) (3.3.0)\n",
            "Requirement already satisfied: etils[epath] in /usr/local/lib/python3.10/dist-packages (from jax==0.3.15->tensorflow-federated) (1.2.0)\n",
            "Requirement already satisfied: importlab>=0.8 in /usr/local/lib/python3.10/dist-packages (from pytype==2022.12.15->tensorflow-federated) (0.8)\n",
            "Requirement already satisfied: jinja2>=3.1.2 in /usr/local/lib/python3.10/dist-packages (from pytype==2022.12.15->tensorflow-federated) (3.1.2)\n",
            "Requirement already satisfied: libcst>=0.4.5 in /usr/local/lib/python3.10/dist-packages (from pytype==2022.12.15->tensorflow-federated) (1.0.1)\n",
            "Requirement already satisfied: networkx<2.8.4 in /usr/local/lib/python3.10/dist-packages (from pytype==2022.12.15->tensorflow-federated) (2.8.3)\n",
            "Requirement already satisfied: ninja>=1.10.0.post2 in /usr/local/lib/python3.10/dist-packages (from pytype==2022.12.15->tensorflow-federated) (1.11.1)\n",
            "Requirement already satisfied: pydot>=1.4.2 in /usr/local/lib/python3.10/dist-packages (from pytype==2022.12.15->tensorflow-federated) (1.4.2)\n",
            "Requirement already satisfied: tabulate>=0.8.10 in /usr/local/lib/python3.10/dist-packages (from pytype==2022.12.15->tensorflow-federated) (0.8.10)\n",
            "Requirement already satisfied: toml>=0.10.2 in /usr/local/lib/python3.10/dist-packages (from pytype==2022.12.15->tensorflow-federated) (0.10.2)\n",
            "Requirement already satisfied: immutabledict~=2.2 in /usr/local/lib/python3.10/dist-packages (from tensorflow-privacy==0.8.9->tensorflow-federated) (2.2.4)\n",
            "Requirement already satisfied: matplotlib~=3.3 in /usr/local/lib/python3.10/dist-packages (from tensorflow-privacy==0.8.9->tensorflow-federated) (3.7.1)\n",
            "Requirement already satisfied: packaging~=22.0 in /usr/local/lib/python3.10/dist-packages (from tensorflow-privacy==0.8.9->tensorflow-federated) (22.0)\n",
            "Requirement already satisfied: pandas~=1.4 in /usr/local/lib/python3.10/dist-packages (from tensorflow-privacy==0.8.9->tensorflow-federated) (1.5.3)\n",
            "Requirement already satisfied: parameterized~=0.8 in /usr/local/lib/python3.10/dist-packages (from tensorflow-privacy==0.8.9->tensorflow-federated) (0.9.0)\n",
            "Requirement already satisfied: scikit-learn==1.*,>=1.0 in /usr/local/lib/python3.10/dist-packages (from tensorflow-privacy==0.8.9->tensorflow-federated) (1.2.2)\n",
            "Requirement already satisfied: statsmodels~=0.13 in /usr/local/lib/python3.10/dist-packages (from tensorflow-privacy==0.8.9->tensorflow-federated) (0.13.5)\n",
            "Requirement already satisfied: tensorflow-datasets~=4.5 in /usr/local/lib/python3.10/dist-packages (from tensorflow-privacy==0.8.9->tensorflow-federated) (4.9.2)\n",
            "Requirement already satisfied: tensorflow-estimator~=2.4 in /usr/local/lib/python3.10/dist-packages (from tensorflow-privacy==0.8.9->tensorflow-federated) (2.12.0)\n",
            "Requirement already satisfied: tensorflow-probability==0.15.0 in /usr/local/lib/python3.10/dist-packages (from tensorflow-privacy==0.8.9->tensorflow-federated) (0.15.0)\n",
            "Requirement already satisfied: joblib>=1.1.1 in /usr/local/lib/python3.10/dist-packages (from scikit-learn==1.*,>=1.0->tensorflow-privacy==0.8.9->tensorflow-federated) (1.2.0)\n",
            "Requirement already satisfied: threadpoolctl>=2.0.0 in /usr/local/lib/python3.10/dist-packages (from scikit-learn==1.*,>=1.0->tensorflow-privacy==0.8.9->tensorflow-federated) (3.1.0)\n",
            "Requirement already satisfied: greenlet!=0.4.17 in /usr/local/lib/python3.10/dist-packages (from sqlalchemy==1.4->google-vizier==0.1.4->tensorflow-federated) (2.0.2)\n",
            "Requirement already satisfied: decorator in /usr/local/lib/python3.10/dist-packages (from tensorflow-probability==0.15.0->tensorflow-privacy==0.8.9->tensorflow-federated) (4.4.2)\n",
            "Requirement already satisfied: cloudpickle>=1.3 in /usr/local/lib/python3.10/dist-packages (from tensorflow-probability==0.15.0->tensorflow-privacy==0.8.9->tensorflow-federated) (2.2.1)\n",
            "Requirement already satisfied: gast>=0.3.2 in /usr/local/lib/python3.10/dist-packages (from tensorflow-probability==0.15.0->tensorflow-privacy==0.8.9->tensorflow-federated) (0.4.0)\n",
            "Requirement already satisfied: psutil in /usr/local/lib/python3.10/dist-packages (from portpicker~=1.5->tensorflow-federated) (5.9.5)\n",
            "Requirement already satisfied: astunparse>=1.6.0 in /usr/local/lib/python3.10/dist-packages (from tensorflow~=2.12.0->tensorflow-federated) (1.6.3)\n",
            "Requirement already satisfied: flatbuffers>=2.0 in /usr/local/lib/python3.10/dist-packages (from tensorflow~=2.12.0->tensorflow-federated) (23.3.3)\n",
            "Requirement already satisfied: google-pasta>=0.1.1 in /usr/local/lib/python3.10/dist-packages (from tensorflow~=2.12.0->tensorflow-federated) (0.2.0)\n",
            "Requirement already satisfied: h5py>=2.9.0 in /usr/local/lib/python3.10/dist-packages (from tensorflow~=2.12.0->tensorflow-federated) (3.8.0)\n",
            "Requirement already satisfied: keras<2.13,>=2.12.0 in /usr/local/lib/python3.10/dist-packages (from tensorflow~=2.12.0->tensorflow-federated) (2.12.0)\n",
            "Requirement already satisfied: libclang>=13.0.0 in /usr/local/lib/python3.10/dist-packages (from tensorflow~=2.12.0->tensorflow-federated) (16.0.0)\n",
            "Requirement already satisfied: setuptools in /usr/local/lib/python3.10/dist-packages (from tensorflow~=2.12.0->tensorflow-federated) (67.7.2)\n",
            "Requirement already satisfied: tensorboard<2.13,>=2.12 in /usr/local/lib/python3.10/dist-packages (from tensorflow~=2.12.0->tensorflow-federated) (2.12.2)\n",
            "Requirement already satisfied: termcolor>=1.1.0 in /usr/local/lib/python3.10/dist-packages (from tensorflow~=2.12.0->tensorflow-federated) (2.3.0)\n",
            "Requirement already satisfied: wrapt<1.15,>=1.11.0 in /usr/local/lib/python3.10/dist-packages (from tensorflow~=2.12.0->tensorflow-federated) (1.14.1)\n",
            "Requirement already satisfied: tensorflow-io-gcs-filesystem>=0.23.1 in /usr/local/lib/python3.10/dist-packages (from tensorflow~=2.12.0->tensorflow-federated) (0.32.0)\n",
            "Requirement already satisfied: wheel<1.0,>=0.23.0 in /usr/local/lib/python3.10/dist-packages (from astunparse>=1.6.0->tensorflow~=2.12.0->tensorflow-federated) (0.40.0)\n",
            "Requirement already satisfied: MarkupSafe>=2.0 in /usr/local/lib/python3.10/dist-packages (from jinja2>=3.1.2->pytype==2022.12.15->tensorflow-federated) (2.1.2)\n",
            "Requirement already satisfied: typing-inspect>=0.4.0 in /usr/local/lib/python3.10/dist-packages (from libcst>=0.4.5->pytype==2022.12.15->tensorflow-federated) (0.9.0)\n",
            "Requirement already satisfied: pyyaml>=5.2 in /usr/local/lib/python3.10/dist-packages (from libcst>=0.4.5->pytype==2022.12.15->tensorflow-federated) (6.0)\n",
            "Requirement already satisfied: contourpy>=1.0.1 in /usr/local/lib/python3.10/dist-packages (from matplotlib~=3.3->tensorflow-privacy==0.8.9->tensorflow-federated) (1.0.7)\n",
            "Requirement already satisfied: cycler>=0.10 in /usr/local/lib/python3.10/dist-packages (from matplotlib~=3.3->tensorflow-privacy==0.8.9->tensorflow-federated) (0.11.0)\n",
            "Requirement already satisfied: fonttools>=4.22.0 in /usr/local/lib/python3.10/dist-packages (from matplotlib~=3.3->tensorflow-privacy==0.8.9->tensorflow-federated) (4.39.3)\n",
            "Requirement already satisfied: kiwisolver>=1.0.1 in /usr/local/lib/python3.10/dist-packages (from matplotlib~=3.3->tensorflow-privacy==0.8.9->tensorflow-federated) (1.4.4)\n",
            "Requirement already satisfied: pillow>=6.2.0 in /usr/local/lib/python3.10/dist-packages (from matplotlib~=3.3->tensorflow-privacy==0.8.9->tensorflow-federated) (8.4.0)\n",
            "Requirement already satisfied: pyparsing>=2.3.1 in /usr/local/lib/python3.10/dist-packages (from matplotlib~=3.3->tensorflow-privacy==0.8.9->tensorflow-federated) (3.0.9)\n",
            "Requirement already satisfied: python-dateutil>=2.7 in /usr/local/lib/python3.10/dist-packages (from matplotlib~=3.3->tensorflow-privacy==0.8.9->tensorflow-federated) (2.8.2)\n",
            "Requirement already satisfied: pytz>=2020.1 in /usr/local/lib/python3.10/dist-packages (from pandas~=1.4->tensorflow-privacy==0.8.9->tensorflow-federated) (2022.7.1)\n",
            "Requirement already satisfied: patsy>=0.5.2 in /usr/local/lib/python3.10/dist-packages (from statsmodels~=0.13->tensorflow-privacy==0.8.9->tensorflow-federated) (0.5.3)\n",
            "Requirement already satisfied: google-auth<3,>=1.6.3 in /usr/local/lib/python3.10/dist-packages (from tensorboard<2.13,>=2.12->tensorflow~=2.12.0->tensorflow-federated) (2.17.3)\n",
            "Requirement already satisfied: google-auth-oauthlib<1.1,>=0.5 in /usr/local/lib/python3.10/dist-packages (from tensorboard<2.13,>=2.12->tensorflow~=2.12.0->tensorflow-federated) (1.0.0)\n",
            "Requirement already satisfied: markdown>=2.6.8 in /usr/local/lib/python3.10/dist-packages (from tensorboard<2.13,>=2.12->tensorflow~=2.12.0->tensorflow-federated) (3.4.3)\n",
            "Requirement already satisfied: requests<3,>=2.21.0 in /usr/local/lib/python3.10/dist-packages (from tensorboard<2.13,>=2.12->tensorflow~=2.12.0->tensorflow-federated) (2.27.1)\n",
            "Requirement already satisfied: tensorboard-data-server<0.8.0,>=0.7.0 in /usr/local/lib/python3.10/dist-packages (from tensorboard<2.13,>=2.12->tensorflow~=2.12.0->tensorflow-federated) (0.7.0)\n",
            "Requirement already satisfied: tensorboard-plugin-wit>=1.6.0 in /usr/local/lib/python3.10/dist-packages (from tensorboard<2.13,>=2.12->tensorflow~=2.12.0->tensorflow-federated) (1.8.1)\n",
            "Requirement already satisfied: werkzeug>=1.0.1 in /usr/local/lib/python3.10/dist-packages (from tensorboard<2.13,>=2.12->tensorflow~=2.12.0->tensorflow-federated) (2.3.0)\n",
            "Requirement already satisfied: array-record in /usr/local/lib/python3.10/dist-packages (from tensorflow-datasets~=4.5->tensorflow-privacy==0.8.9->tensorflow-federated) (0.2.0)\n",
            "Requirement already satisfied: click in /usr/local/lib/python3.10/dist-packages (from tensorflow-datasets~=4.5->tensorflow-privacy==0.8.9->tensorflow-federated) (8.1.3)\n",
            "Requirement already satisfied: promise in /usr/local/lib/python3.10/dist-packages (from tensorflow-datasets~=4.5->tensorflow-privacy==0.8.9->tensorflow-federated) (2.3)\n",
            "Requirement already satisfied: tensorflow-metadata in /usr/local/lib/python3.10/dist-packages (from tensorflow-datasets~=4.5->tensorflow-privacy==0.8.9->tensorflow-federated) (1.13.1)\n",
            "Requirement already satisfied: importlib_resources in /usr/local/lib/python3.10/dist-packages (from etils[epath]->jax==0.3.15->tensorflow-federated) (5.12.0)\n",
            "Requirement already satisfied: zipp in /usr/local/lib/python3.10/dist-packages (from etils[epath]->jax==0.3.15->tensorflow-federated) (3.15.0)\n",
            "Requirement already satisfied: pyasn1-modules>=0.2.1 in /usr/local/lib/python3.10/dist-packages (from google-auth<3,>=1.6.3->tensorboard<2.13,>=2.12->tensorflow~=2.12.0->tensorflow-federated) (0.3.0)\n",
            "Requirement already satisfied: rsa<5,>=3.1.4 in /usr/local/lib/python3.10/dist-packages (from google-auth<3,>=1.6.3->tensorboard<2.13,>=2.12->tensorflow~=2.12.0->tensorflow-federated) (4.9)\n",
            "Requirement already satisfied: requests-oauthlib>=0.7.0 in /usr/local/lib/python3.10/dist-packages (from google-auth-oauthlib<1.1,>=0.5->tensorboard<2.13,>=2.12->tensorflow~=2.12.0->tensorflow-federated) (1.3.1)\n",
            "Requirement already satisfied: urllib3<1.27,>=1.21.1 in /usr/local/lib/python3.10/dist-packages (from requests<3,>=2.21.0->tensorboard<2.13,>=2.12->tensorflow~=2.12.0->tensorflow-federated) (1.26.15)\n",
            "Requirement already satisfied: certifi>=2017.4.17 in /usr/local/lib/python3.10/dist-packages (from requests<3,>=2.21.0->tensorboard<2.13,>=2.12->tensorflow~=2.12.0->tensorflow-federated) (2022.12.7)\n",
            "Requirement already satisfied: charset-normalizer~=2.0.0 in /usr/local/lib/python3.10/dist-packages (from requests<3,>=2.21.0->tensorboard<2.13,>=2.12->tensorflow~=2.12.0->tensorflow-federated) (2.0.12)\n",
            "Requirement already satisfied: idna<4,>=2.5 in /usr/local/lib/python3.10/dist-packages (from requests<3,>=2.21.0->tensorboard<2.13,>=2.12->tensorflow~=2.12.0->tensorflow-federated) (3.4)\n",
            "Requirement already satisfied: mypy-extensions>=0.3.0 in /usr/local/lib/python3.10/dist-packages (from typing-inspect>=0.4.0->libcst>=0.4.5->pytype==2022.12.15->tensorflow-federated) (1.0.0)\n",
            "Requirement already satisfied: pyasn1<0.6.0,>=0.4.6 in /usr/local/lib/python3.10/dist-packages (from pyasn1-modules>=0.2.1->google-auth<3,>=1.6.3->tensorboard<2.13,>=2.12->tensorflow~=2.12.0->tensorflow-federated) (0.5.0)\n",
            "Requirement already satisfied: oauthlib>=3.0.0 in /usr/local/lib/python3.10/dist-packages (from requests-oauthlib>=0.7.0->google-auth-oauthlib<1.1,>=0.5->tensorboard<2.13,>=2.12->tensorflow~=2.12.0->tensorflow-federated) (3.2.2)\n"
          ]
        }
      ]
    },
    {
      "cell_type": "code",
      "source": [
        "import tensorflow as tf\n",
        "import tensorflow_federated as tff\n",
        "import numpy as np\n",
        "import pandas as pd\n",
        "from sklearn.preprocessing import MinMaxScaler\n",
        "from sklearn.model_selection import train_test_split\n",
        "from tensorflow.keras.models import Sequential\n",
        "from tensorflow.keras.layers import Dense, Dropout\n",
        "from tensorflow.keras.layers import LeakyReLU"
      ],
      "metadata": {
        "id": "RP46miQcqTZW"
      },
      "execution_count": null,
      "outputs": []
    },
    {
      "cell_type": "code",
      "source": [
        "train, test = train_test_split(dfben, test_size=0.25, random_state=42)\n",
        "train_data_ben = tf.data.Dataset.from_tensor_slices(train)\n",
        "test_data_ben = tf.data.Dataset.from_tensor_slices(test)\n",
        "# Define your model architecture\n",
        "model = Sequential()\n",
        "model.add(Dense(78, input_dim=train.shape[1]))\n",
        "model.add(LeakyReLU(alpha=0.2))\n",
        "model.add(Dense(32))\n",
        "model.add(LeakyReLU(alpha=0.2))\n",
        "model.add(Dropout(0.2))\n",
        "model.add(Dense(16))\n",
        "model.add(LeakyReLU(alpha=0.2))\n",
        "model.add(Dense(8))\n",
        "model.add(LeakyReLU(alpha=0.2))\n",
        "model.add(Dense(8))\n",
        "model.add(LeakyReLU(alpha=0.2))\n",
        "model.add(Dense(16))\n",
        "model.add(LeakyReLU(alpha=0.2))\n",
        "model.add(Dropout(0.2))\n",
        "model.add(Dense(32))\n",
        "model.add(LeakyReLU(alpha=0.2))\n",
        "model.add(Dense(train.shape[1]))\n",
        "\n",
        "model.compile(loss='mean_squared_error', optimizer='adam')\n",
        "model.summary()\n"
      ],
      "metadata": {
        "colab": {
          "base_uri": "https://localhost:8080/",
          "height": 236
        },
        "id": "XD9KSlcqpJlO",
        "outputId": "469e009d-bbe7-43c2-ee6e-a83b7e670278"
      },
      "execution_count": null,
      "outputs": [
        {
          "output_type": "error",
          "ename": "NameError",
          "evalue": "ignored",
          "traceback": [
            "\u001b[0;31m---------------------------------------------------------------------------\u001b[0m",
            "\u001b[0;31mNameError\u001b[0m                                 Traceback (most recent call last)",
            "\u001b[0;32m<ipython-input-28-221a96a7dbe2>\u001b[0m in \u001b[0;36m<cell line: 1>\u001b[0;34m()\u001b[0m\n\u001b[0;32m----> 1\u001b[0;31m \u001b[0mtrain\u001b[0m\u001b[0;34m,\u001b[0m \u001b[0mtest\u001b[0m \u001b[0;34m=\u001b[0m \u001b[0mtrain_test_split\u001b[0m\u001b[0;34m(\u001b[0m\u001b[0mdfben\u001b[0m\u001b[0;34m,\u001b[0m \u001b[0mtest_size\u001b[0m\u001b[0;34m=\u001b[0m\u001b[0;36m0.25\u001b[0m\u001b[0;34m,\u001b[0m \u001b[0mrandom_state\u001b[0m\u001b[0;34m=\u001b[0m\u001b[0;36m42\u001b[0m\u001b[0;34m)\u001b[0m\u001b[0;34m\u001b[0m\u001b[0;34m\u001b[0m\u001b[0m\n\u001b[0m\u001b[1;32m      2\u001b[0m \u001b[0mtrain_data_ben\u001b[0m \u001b[0;34m=\u001b[0m \u001b[0mtf\u001b[0m\u001b[0;34m.\u001b[0m\u001b[0mdata\u001b[0m\u001b[0;34m.\u001b[0m\u001b[0mDataset\u001b[0m\u001b[0;34m.\u001b[0m\u001b[0mfrom_tensor_slices\u001b[0m\u001b[0;34m(\u001b[0m\u001b[0mtrain\u001b[0m\u001b[0;34m)\u001b[0m\u001b[0;34m\u001b[0m\u001b[0;34m\u001b[0m\u001b[0m\n\u001b[1;32m      3\u001b[0m \u001b[0mtest_data_ben\u001b[0m \u001b[0;34m=\u001b[0m \u001b[0mtf\u001b[0m\u001b[0;34m.\u001b[0m\u001b[0mdata\u001b[0m\u001b[0;34m.\u001b[0m\u001b[0mDataset\u001b[0m\u001b[0;34m.\u001b[0m\u001b[0mfrom_tensor_slices\u001b[0m\u001b[0;34m(\u001b[0m\u001b[0mtest\u001b[0m\u001b[0;34m)\u001b[0m\u001b[0;34m\u001b[0m\u001b[0;34m\u001b[0m\u001b[0m\n\u001b[1;32m      4\u001b[0m \u001b[0;31m# Define your model architecture\u001b[0m\u001b[0;34m\u001b[0m\u001b[0;34m\u001b[0m\u001b[0m\n\u001b[1;32m      5\u001b[0m \u001b[0mmodel\u001b[0m \u001b[0;34m=\u001b[0m \u001b[0mSequential\u001b[0m\u001b[0;34m(\u001b[0m\u001b[0;34m)\u001b[0m\u001b[0;34m\u001b[0m\u001b[0;34m\u001b[0m\u001b[0m\n",
            "\u001b[0;31mNameError\u001b[0m: name 'dfben' is not defined"
          ]
        }
      ]
    },
    {
      "cell_type": "code",
      "source": [
        "!python --version\n",
        "!pip install --quiet --upgrade nest-asyncio"
      ],
      "metadata": {
        "colab": {
          "base_uri": "https://localhost:8080/"
        },
        "id": "VRypvPiVbtlG",
        "outputId": "e3f9f010-2dd4-466f-a9be-3b18a916d019"
      },
      "execution_count": null,
      "outputs": [
        {
          "output_type": "stream",
          "name": "stdout",
          "text": [
            "Python 3.8.10\n",
            "Traceback (most recent call last):\n",
            "  File \"/usr/local/bin/pip3\", line 5, in <module>\n",
            "    from pip._internal.cli.main import main\n",
            "ModuleNotFoundError: No module named 'pip'\n"
          ]
        }
      ]
    },
    {
      "cell_type": "code",
      "source": [
        "tff.framework.set_default_context(tff.backends.native.create_tf_execution_context())"
      ],
      "metadata": {
        "id": "c6_xPS57pJfP",
        "colab": {
          "base_uri": "https://localhost:8080/",
          "height": 166
        },
        "outputId": "2463d48e-41b1-403e-be02-2008933f806a"
      },
      "execution_count": null,
      "outputs": [
        {
          "output_type": "error",
          "ename": "AttributeError",
          "evalue": "ignored",
          "traceback": [
            "\u001b[0;31m---------------------------------------------------------------------------\u001b[0m",
            "\u001b[0;31mAttributeError\u001b[0m                            Traceback (most recent call last)",
            "\u001b[0;32m<ipython-input-31-774f2fbbcead>\u001b[0m in \u001b[0;36m<cell line: 1>\u001b[0;34m()\u001b[0m\n\u001b[0;32m----> 1\u001b[0;31m \u001b[0mtff\u001b[0m\u001b[0;34m.\u001b[0m\u001b[0mframework\u001b[0m\u001b[0;34m.\u001b[0m\u001b[0mset_default_context\u001b[0m\u001b[0;34m(\u001b[0m\u001b[0mtff\u001b[0m\u001b[0;34m.\u001b[0m\u001b[0mbackends\u001b[0m\u001b[0;34m.\u001b[0m\u001b[0mnative\u001b[0m\u001b[0;34m.\u001b[0m\u001b[0mcreate_tf_execution_context\u001b[0m\u001b[0;34m(\u001b[0m\u001b[0;34m)\u001b[0m\u001b[0;34m)\u001b[0m\u001b[0;34m\u001b[0m\u001b[0;34m\u001b[0m\u001b[0m\n\u001b[0m",
            "\u001b[0;31mAttributeError\u001b[0m: module 'tensorflow_federated.python.core.backends.native' has no attribute 'create_tf_execution_context'"
          ]
        }
      ]
    },
    {
      "cell_type": "code",
      "source": [
        "!sudo update-alternatives --install /usr/bin/python3 python3 /usr/bin/python3.9.2"
      ],
      "metadata": {
        "id": "kWut4nS6pJQd",
        "colab": {
          "base_uri": "https://localhost:8080/"
        },
        "outputId": "4699773b-ee3a-4a7b-e8e2-eae75bdc58a8"
      },
      "execution_count": null,
      "outputs": [
        {
          "output_type": "stream",
          "name": "stdout",
          "text": [
            "update-alternatives: --install needs <link> <name> <path> <priority>\n",
            "\n",
            "Use 'update-alternatives --help' for program usage information.\n"
          ]
        }
      ]
    },
    {
      "cell_type": "code",
      "source": [
        "!sudo update-alternatives --config python3"
      ],
      "metadata": {
        "colab": {
          "base_uri": "https://localhost:8080/"
        },
        "id": "jKE_oHtWdrjr",
        "outputId": "8cbe61dc-6cc6-421c-f18b-38de226fbada"
      },
      "execution_count": null,
      "outputs": [
        {
          "output_type": "stream",
          "name": "stdout",
          "text": [
            "There are 2 choices for the alternative python3 (providing /usr/bin/python3).\n",
            "\n",
            "  Selection    Path                 Priority   Status\n",
            "------------------------------------------------------------\n",
            "  0            /usr/bin/python3.10   2         auto mode\n",
            "  1            /usr/bin/python3.10   2         manual mode\n",
            "* 2            /usr/bin/python3.8    1         manual mode\n",
            "\n",
            "Press <enter> to keep the current choice[*], or type selection number: 0\n",
            "update-alternatives: using /usr/bin/python3.10 to provide /usr/bin/python3 (python3) in auto mode\n"
          ]
        }
      ]
    },
    {
      "cell_type": "code",
      "source": [],
      "metadata": {
        "id": "In62ukOBeSCX"
      },
      "execution_count": null,
      "outputs": []
    }
  ]
}